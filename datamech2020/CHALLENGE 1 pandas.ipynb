{
 "metadata": {
  "language_info": {
   "codemirror_mode": {
    "name": "ipython",
    "version": 3
   },
   "file_extension": ".py",
   "mimetype": "text/x-python",
   "name": "python",
   "nbconvert_exporter": "python",
   "pygments_lexer": "ipython3",
   "version": 3
  },
  "orig_nbformat": 2
 },
 "nbformat": 4,
 "nbformat_minor": 2,
 "cells": [
  {
   "cell_type": "code",
   "execution_count": null,
   "metadata": {},
   "outputs": [],
   "source": [
    "import pandas as pd\n",
    "\n",
    "inventory = pd.read_csv(\"inventory.csv\")\n",
    "inventory.head(10)"
   ]
  },
  {
   "cell_type": "code",
   "execution_count": null,
   "metadata": {},
   "outputs": [],
   "source": [
    "\n",
    "product_request = staten_island.product_description\n",
    "seed_request  = inventory[(inventory.location == 'Brooklyn') & (inventory.product_type == 'seeds')]\n",
    "\n",
    "inventory[\"in_stock\"] = inventory.quantity.apply(lambda x: True if x > 0 else False )\n",
    "\n",
    "inventory[\"total_value\"] = inventory.price * inventory.quantity\n",
    "print(inventory.head())\n",
    "\n",
    "combine_lambda = lambda row: '{} - {}'.format(row.product_type,\n",
    "                     row.product_description)\n",
    "\n",
    "inventory[\"full_description\"] = inventory.apply(combine_lambda)"
   ]
  }
 ]
}