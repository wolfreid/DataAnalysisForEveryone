{
 "cells": [
  {
   "cell_type": "markdown",
   "id": "1a35e711",
   "metadata": {},
   "source": [
    "# Python Classes: Medical Insurance Project"
   ]
  },
  {
   "cell_type": "markdown",
   "id": "f99e0aa0",
   "metadata": {},
   "source": [
    "You have been asked to develop a system that makes it easier to organize patient data. You will create a `class` that does the following:\n",
    "- Takes in patient parameters regarding their personal information\n",
    "- Contains methods that allow users to update their information\n",
    "- Gives patients insight into their potential medical fees.\n",
    "\n",
    "Let's get started!"
   ]
  },
  {
   "cell_type": "markdown",
   "id": "1fa7e1c0",
   "metadata": {},
   "source": [
    "## Building our Constructor"
   ]
  },
  {
   "cell_type": "markdown",
   "id": "a575e31d",
   "metadata": {},
   "source": [
    "1. If you look at the code block below, you will see that we have started a `class` called `Patient`. It currently has an `__init__` method with two class variables: `self.name` and `self.age`.\n",
    "\n",
    "   Let's start by adding in some more patient parameters:\n",
    "   - `sex`: patient's biological identification, 0 for male and 1 for female\n",
    "   - `bmi`: patient BMI\n",
    "   - `num_of_children`: number of children patient has\n",
    "   - `smoker`: patient smoking status, 0 for a non-smoker and 1 for a smoker\n",
    "   \n",
    "   Add these into the `__init__` method so that we can use them as we create our class methods."
   ]
  },
  {
   "cell_type": "code",
   "execution_count": 212,
   "id": "e0521517",
   "metadata": {},
   "outputs": [
    {
     "name": "stdout",
     "output_type": "stream",
     "text": [
      "[87, 16, 53, 3, 46, 59, 26, 53, 40, 20, 40, 78, 30, 57, 92, 36, 57, 4, 8, 50, 11, 8, 51, 14, 36, 68, 30, 52, 39, 88, 48, 65, 84, 83, 90, 57, 40, 78, 77, 45, 50, 89, 72, 41, 57, 88, 52, 51, 53, 70, 82, 90, 39, 90, 88, 40, 15, 33, 12, 95, 35, 60, 85, 80, 51, 87, 20, 67, 72, 2, 60, 16, 32, 77, 15, 3, 5, 88, 3, 60, 28, 98, 94, 68, 61, 30, 11, 78, 91, 80, 88, 18, 38, 100, 78, 76, 34, 17, 35, 35, 18]\n"
     ]
    }
   ],
   "source": [
    "# всяческие приколы с рандомайзерами\n",
    "\n",
    "import random\n",
    "from matplotlib import pyplot as plt \n",
    "import random\n",
    "random_list = []\n",
    "random_list = [random.randint(1,100) for a in range(101)]\n",
    "randomer_number = random.choice(random_list)\n",
    "print(random_list)\n",
    "numbers_a = range(1,13)\n",
    "numbers_b = [random.randint(1,1000) for i in numbers_a] \n",
    "print(numbers_b)\n",
    "plt.plot(numbers_a,numbers_b)\n",
    "plt.show()"
   ]
  },
  {
   "cell_type": "code",
   "execution_count": 230,
   "id": "08e01a14",
   "metadata": {},
   "outputs": [
    {
     "data": {
      "text/plain": [
       "Timestamp('2017-01-01 09:10:11')"
      ]
     },
     "execution_count": 230,
     "metadata": {},
     "output_type": "execute_result"
    }
   ],
   "source": [
    "ts = pd.Timestamp('2017-01-01 09:10:11')\n",
    "ts + pd.DateOffset(n=4,years=0)"
   ]
  },
  {
   "cell_type": "code",
   "execution_count": 231,
   "id": "71f90ea3",
   "metadata": {},
   "outputs": [
    {
     "data": {
      "text/plain": [
       "NoneType"
      ]
     },
     "execution_count": 231,
     "metadata": {},
     "output_type": "execute_result"
    }
   ],
   "source": [
    "def f():\n",
    "    pass\n",
    "type(f())"
   ]
  },
  {
   "cell_type": "code",
   "execution_count": 238,
   "id": "6c7c7b37",
   "metadata": {},
   "outputs": [
    {
     "data": {
      "text/plain": [
       "46.746336754873106"
      ]
     },
     "execution_count": 238,
     "metadata": {},
     "output_type": "execute_result"
    }
   ],
   "source": [
    "(((-18.1)**2)+(43.1**2))**0.5"
   ]
  },
  {
   "cell_type": "code",
   "execution_count": 201,
   "id": "271950a3",
   "metadata": {},
   "outputs": [],
   "source": [
    "import numpy as np\n",
    "import pandas as pd\n",
    "class Patient:\n",
    "    profiles = []\n",
    "    def __init__(self, name, age,sex,bmi,num_of_children,smoker):\n",
    "        self.name = name\n",
    "        self.age = age\n",
    "        self.sex = sex\n",
    "        self.bmi = bmi\n",
    "        self.num_of_children = num_of_children\n",
    "        self.smoker = smoker\n",
    "        self.profile = {key:item for key,item in self.patient_profile().items() if key != 'profile'}\n",
    "        Patient.profiles.append(self.profile)\n",
    "    def estimated_insurance_cost(self):\n",
    "        estimated_cost = 250*self.age - 128*self.sex + 370*self.bmi + 425*self.num_of_children + 24000*self.smoker - 12500\n",
    "        return f\"{self.name}’s estimated insurance costs is {estimated_cost} dollars.\"\n",
    "    \n",
    "    def update_age(self,new_age):\n",
    "        self.age = new_age\n",
    "        return f\"{self.name} is now {self.age} years old.\"\n",
    "    def update_num_children(self,new_num_children):\n",
    "        self.num_of_children = new_num_children\n",
    "        \n",
    "        if self.num_of_children == 1:\n",
    "            return f\"{self.name} has {self.num_of_children} child\"\n",
    "        elif self.num_of_children == 0:\n",
    "            return f\"{self.name} has none of children\"\n",
    "        else:\n",
    "            return f\"{self.name} has {self.num_of_children} children\"\n",
    "    # lets builds a dictionary to hold all of our patient’s information.\n",
    "    @classmethod\n",
    "    def add_patient(cls, name, age,sex,bmi,num_of_children,smoker):\n",
    "        return cls(name, age,sex,bmi,num_of_children,smoker)\n",
    "    \n",
    "    def patient_profile(self):\n",
    "        print(self.__dict__)\n",
    "        return self.__dict__\n",
    "        \n",
    "        \n",
    "    \n",
    "        # add more parameters here"
   ]
  },
  {
   "cell_type": "markdown",
   "id": "3cfdd84f",
   "metadata": {},
   "source": [
    "2. Let's test out our `__init__` method and create our first instance variable.\n",
    "\n",
    "   Create an instance variable outside of our class called `patient1`.\n",
    "   ```py\n",
    "   patient1 = Patient(\"John Doe\", 25, 1, 22.2, 0, 0)\n",
    "   ```\n",
    "   \n",
    "   Next, print out the name of `patient1` using the following line of code:\n",
    "   ```py\n",
    "   print(patient1.name)\n",
    "   ```\n",
    "   \n",
    "   Print out the rest of `patient1`'s information to ensure the `__init__` method is functioning properly."
   ]
  },
  {
   "cell_type": "code",
   "execution_count": 202,
   "id": "2d9efff6",
   "metadata": {},
   "outputs": [
    {
     "name": "stdout",
     "output_type": "stream",
     "text": [
      "{'name': 'John Doe', 'age': 25, 'sex': 1, 'bmi': 22.2, 'num_of_children': 0, 'smoker': 0}\n",
      "{'name': 'Jassy Doe', 'age': 25, 'sex': 1, 'bmi': 22.2, 'num_of_children': 0, 'smoker': 0}\n",
      "{'name': 'Mops Tits', 'age': 25, 'sex': 1, 'bmi': 22.2, 'num_of_children': 0, 'smoker': 0}\n"
     ]
    },
    {
     "data": {
      "text/html": [
       "<div>\n",
       "<style scoped>\n",
       "    .dataframe tbody tr th:only-of-type {\n",
       "        vertical-align: middle;\n",
       "    }\n",
       "\n",
       "    .dataframe tbody tr th {\n",
       "        vertical-align: top;\n",
       "    }\n",
       "\n",
       "    .dataframe thead th {\n",
       "        text-align: right;\n",
       "    }\n",
       "</style>\n",
       "<table border=\"1\" class=\"dataframe\">\n",
       "  <thead>\n",
       "    <tr style=\"text-align: right;\">\n",
       "      <th></th>\n",
       "      <th>0</th>\n",
       "    </tr>\n",
       "  </thead>\n",
       "  <tbody>\n",
       "    <tr>\n",
       "      <th>0</th>\n",
       "      <td>&lt;__main__.Patient object at 0x00000190070BBC70&gt;</td>\n",
       "    </tr>\n",
       "  </tbody>\n",
       "</table>\n",
       "</div>"
      ],
      "text/plain": [
       "                                                 0\n",
       "0  <__main__.Patient object at 0x00000190070BBC70>"
      ]
     },
     "execution_count": 202,
     "metadata": {},
     "output_type": "execute_result"
    }
   ],
   "source": [
    "patient1 = Patient(\"John Doe\", 25, 1, 22.2, 0, 0)\n",
    "patient1.update_age(19)\n",
    "patient1.update_num_children(0)\n",
    "patient1.estimated_insurance_cost()\n",
    "profile_table = pd.DataFrame(patient1.profiles)\n",
    "pd.DataFrame([Patient.add_patient(\"Jassy Doe\", 25, 1, 22.2, 0, 0)])\n",
    "pd.DataFrame([Patient.add_patient(\"Mops Tits\", 25, 1, 22.2, 0, 0)])\n"
   ]
  },
  {
   "cell_type": "code",
   "execution_count": 205,
   "id": "8af40b5d",
   "metadata": {},
   "outputs": [
    {
     "data": {
      "text/plain": [
       "{'name': 'John Doe',\n",
       " 'age': 25,\n",
       " 'sex': 1,\n",
       " 'bmi': 22.2,\n",
       " 'num_of_children': 0,\n",
       " 'smoker': 0}"
      ]
     },
     "execution_count": 205,
     "metadata": {},
     "output_type": "execute_result"
    }
   ],
   "source": [
    "patient1.profile"
   ]
  },
  {
   "cell_type": "code",
   "execution_count": 206,
   "id": "20852e50",
   "metadata": {},
   "outputs": [
    {
     "data": {
      "text/html": [
       "<div>\n",
       "<style scoped>\n",
       "    .dataframe tbody tr th:only-of-type {\n",
       "        vertical-align: middle;\n",
       "    }\n",
       "\n",
       "    .dataframe tbody tr th {\n",
       "        vertical-align: top;\n",
       "    }\n",
       "\n",
       "    .dataframe thead th {\n",
       "        text-align: right;\n",
       "    }\n",
       "</style>\n",
       "<table border=\"1\" class=\"dataframe\">\n",
       "  <thead>\n",
       "    <tr style=\"text-align: right;\">\n",
       "      <th></th>\n",
       "      <th>name</th>\n",
       "      <th>age</th>\n",
       "      <th>sex</th>\n",
       "      <th>bmi</th>\n",
       "      <th>num_of_children</th>\n",
       "      <th>smoker</th>\n",
       "    </tr>\n",
       "  </thead>\n",
       "  <tbody>\n",
       "    <tr>\n",
       "      <th>0</th>\n",
       "      <td>John Doe</td>\n",
       "      <td>25</td>\n",
       "      <td>1</td>\n",
       "      <td>22.2</td>\n",
       "      <td>0</td>\n",
       "      <td>0</td>\n",
       "    </tr>\n",
       "    <tr>\n",
       "      <th>1</th>\n",
       "      <td>Jassy Doe</td>\n",
       "      <td>25</td>\n",
       "      <td>1</td>\n",
       "      <td>22.2</td>\n",
       "      <td>0</td>\n",
       "      <td>0</td>\n",
       "    </tr>\n",
       "    <tr>\n",
       "      <th>2</th>\n",
       "      <td>Mops Tits</td>\n",
       "      <td>25</td>\n",
       "      <td>1</td>\n",
       "      <td>22.2</td>\n",
       "      <td>0</td>\n",
       "      <td>0</td>\n",
       "    </tr>\n",
       "  </tbody>\n",
       "</table>\n",
       "</div>"
      ],
      "text/plain": [
       "        name  age  sex   bmi  num_of_children  smoker\n",
       "0   John Doe   25    1  22.2                0       0\n",
       "1  Jassy Doe   25    1  22.2                0       0\n",
       "2  Mops Tits   25    1  22.2                0       0"
      ]
     },
     "execution_count": 206,
     "metadata": {},
     "output_type": "execute_result"
    }
   ],
   "source": [
    "pd.DataFrame(Patient.profiles)"
   ]
  },
  {
   "cell_type": "markdown",
   "id": "153c37a5",
   "metadata": {},
   "source": [
    "## Adding Functionality with Methods"
   ]
  },
  {
   "cell_type": "markdown",
   "id": "a2548fbe",
   "metadata": {},
   "source": [
    "3. Now that our constructor is built out and ready to go, let's start creating some methods! Our first method will be `estimated_insurance_cost()`, which takes our instance's parameters (representing our patient's information) and returns their expected yearly medical fees.\n",
    "\n",
    "   Below the `__init__` constructor, define our `estimated_insurance_cost()` constructor which only takes `self` as an argument. Inside of this method, add the following formula:\n",
    "   \n",
    "   $$\n",
    "   estimated\\_cost = 250*age - 128*sex + 370*bmi + 425*num\\_of\\_children + 24000*smoker - 12500\n",
    "   $$\n",
    "   \n",
    "   Note that we are using class variables in our formula here, so be sure to remember to use the `self` keyword."
   ]
  },
  {
   "cell_type": "code",
   "execution_count": null,
   "id": "0592dd7b",
   "metadata": {},
   "outputs": [],
   "source": [
    "patient1.estimated_insurance_cost()\n"
   ]
  },
  {
   "cell_type": "markdown",
   "id": "88857f9c",
   "metadata": {},
   "source": [
    "4. Inside of our `estimated_insurance_cost()` method, let's add a print statement that displays the following:\n",
    "\n",
    "   ```\n",
    "   {Patient Name}'s estimated insurance costs is {estimated cost} dollars.\n",
    "   ```\n",
    "   \n",
    "   Then, test out this method using the `patient1` instance variable."
   ]
  },
  {
   "cell_type": "code",
   "execution_count": null,
   "id": "6c55d57a",
   "metadata": {},
   "outputs": [],
   "source": [
    "(1836-336)/6"
   ]
  },
  {
   "cell_type": "code",
   "execution_count": 84,
   "id": "00fe10e9",
   "metadata": {},
   "outputs": [],
   "source": []
  },
  {
   "cell_type": "markdown",
   "id": "98623074",
   "metadata": {},
   "source": [
    "5. We already have one super useful method in our class! Let's add some more and make our `Patient` class even more powerful.\n",
    "\n",
    "   What if our patient recently had a birthday? Or had a fluctuation in weight? Or had a kid? Let's add some methods that allow us to update these parameters and recalculate the estimated medical fees in one swing.\n",
    "   \n",
    "   First, create an `update_age()` method. It should take in two arguments: `self` and `new_age`. In this method reassign `self.age` to `new_age`."
   ]
  },
  {
   "cell_type": "code",
   "execution_count": 85,
   "id": "cdd1166a",
   "metadata": {},
   "outputs": [],
   "source": []
  },
  {
   "cell_type": "code",
   "execution_count": 86,
   "id": "7b70961b",
   "metadata": {},
   "outputs": [
    {
     "data": {
      "text/plain": [
       "<__main__.Patient at 0x19006c29060>"
      ]
     },
     "execution_count": 86,
     "metadata": {},
     "output_type": "execute_result"
    }
   ],
   "source": [
    "df = pd.DataFrame()\n"
   ]
  },
  {
   "cell_type": "markdown",
   "id": "a371c179",
   "metadata": {},
   "source": [
    "6. Let's flesh out this method some more!\n",
    "\n",
    "   Add a print statement that outputs the following statement:\n",
    "   ```\n",
    "   {Patient Name} is now {Patient Age} years old.\n",
    "   ```\n",
    "   \n",
    "   Test out your method using the `patient1` instance variable."
   ]
  },
  {
   "cell_type": "code",
   "execution_count": null,
   "id": "39a0b425",
   "metadata": {},
   "outputs": [],
   "source": []
  },
  {
   "cell_type": "markdown",
   "id": "e776b1b7",
   "metadata": {},
   "source": [
    "7. We also want to see what the new insurance expenses are. Call the `estimated_insurance_cost()` method in `update_age()` using this line of code:\n",
    "\n",
    "   ```py\n",
    "   self.estimated_insurance_cost()\n",
    "   ```\n",
    "   \n",
    "   Test out your method with `patient1`."
   ]
  },
  {
   "cell_type": "code",
   "execution_count": null,
   "id": "a26df486",
   "metadata": {},
   "outputs": [],
   "source": []
  },
  {
   "cell_type": "markdown",
   "id": "c941f315",
   "metadata": {},
   "source": [
    "8. Let's make another update method that modifies the `num_of_children` parameter.\n",
    "\n",
    "   Below the `update_age()` method, define a new one called `update_num_children()`. This method should have two arguments, `self` and `new_num_children`. Inside the method, `self.num_of_children` should be set equal to `new_num_children`."
   ]
  },
  {
   "cell_type": "code",
   "execution_count": null,
   "id": "cd98f4a6",
   "metadata": {},
   "outputs": [],
   "source": []
  },
  {
   "cell_type": "markdown",
   "id": "0b11e91f",
   "metadata": {},
   "source": [
    "9. Similarly to the method we wrote before, let's add in a print statement that clarifies the information that is being updated.\n",
    "\n",
    "   Your print statement should output the following:\n",
    "   ```\n",
    "   {Patient Name} has {Patient's Number of Children} children.\n",
    "   ```\n",
    "   \n",
    "   Use the `patient1` instance variable to test out this method. Set the `new_num_children` argument to `1`. Do you notice anything strange in the output?"
   ]
  },
  {
   "cell_type": "code",
   "execution_count": null,
   "id": "b62772bc",
   "metadata": {},
   "outputs": [],
   "source": []
  },
  {
   "cell_type": "markdown",
   "id": "d53b6275",
   "metadata": {},
   "source": [
    "10. You may have noticed our output is grammatically incorrect because John Doe only has `1` child. Let's update our method to accurately convey when we should use the noun \"children\" versus when we should use \"child\".\n",
    "\n",
    "    To do this we can use control flow.\n",
    "    \n",
    "    If the patient has `1` offspring, we should see the following output:\n",
    "    ```\n",
    "    {Patient Name} has {Patient Number of Children} child.\n",
    "    ```\n",
    "    \n",
    "    Otherwise, we should see this output:\n",
    "    ```\n",
    "    {Patient Name} has {Patient Number of Children} children.\n",
    "    ```\n",
    "    \n",
    "    Write out your control flow program, and test it out using `patient1`."
   ]
  },
  {
   "cell_type": "code",
   "execution_count": null,
   "id": "cedc7853",
   "metadata": {},
   "outputs": [],
   "source": []
  },
  {
   "cell_type": "markdown",
   "id": "affe25af",
   "metadata": {},
   "source": [
    "11. To finish off the `update_num_children()` method, let's call our `estimated_insurance_cost()` method at the end.\n",
    "\n",
    "    Use `patient1` to ensure that everything is functioning as expected!"
   ]
  },
  {
   "cell_type": "code",
   "execution_count": null,
   "id": "376cb9e2",
   "metadata": {},
   "outputs": [],
   "source": []
  },
  {
   "cell_type": "markdown",
   "id": "8d03d380",
   "metadata": {},
   "source": [
    "## Storing Patient Information"
   ]
  },
  {
   "cell_type": "markdown",
   "id": "dd95a23f",
   "metadata": {},
   "source": [
    "12. Let's create one last method that uses a dictionary to store a patient's information in one convenient variable. We can use our parameters as the keys and their specific data as the values.\n",
    "\n",
    "    Define a method called `patient_profile()` that builds a dictionary called `patient_information` to hold all of our patient's information."
   ]
  },
  {
   "cell_type": "code",
   "execution_count": null,
   "id": "1ce4289e",
   "metadata": {},
   "outputs": [],
   "source": []
  },
  {
   "cell_type": "markdown",
   "id": "a363090c",
   "metadata": {},
   "source": [
    "13. Let's test out our final method! Use `patient1` to call the method `patient_profile()`.\n",
    "\n",
    "    Remember that in `patient_profile()` we used a return statement rather than a print statement. In order to see our dictionary outputted, we must wrap a print statement around our method call."
   ]
  },
  {
   "cell_type": "code",
   "execution_count": null,
   "id": "e83a02cf",
   "metadata": {},
   "outputs": [],
   "source": []
  },
  {
   "cell_type": "markdown",
   "id": "41304151",
   "metadata": {},
   "source": [
    "## Extensions"
   ]
  },
  {
   "cell_type": "markdown",
   "id": "969f3f7c",
   "metadata": {},
   "source": [
    "14. Congratulations! You have successfully made a powerful `Patient` class! Classes are an incredibly useful programming tool because they allow you to create a blueprint that can be used to build many objects off of. In this case, you can organize any patient's information and apply all methods of `Patient` to update and arrange their data.\n",
    "\n",
    "    There are endless possibilities for extending the capabilities of this class. If you would like to continue to work on this `Patient` class, take a look at the following challenges:\n",
    "    - Build out more methods that allow users to update more patient parameters, such as `update_bmi()` or `update_smoking_status()`.\n",
    "    - Use `try` and `except` statements to ensure that patient data is uploaded using numerical values.\n",
    "    - Update the class so that users can upload lists of patient data rather than just individual numbers.\n",
    "    \n",
    "    Happy coding!"
   ]
  },
  {
   "cell_type": "code",
   "execution_count": null,
   "id": "8368ddef",
   "metadata": {},
   "outputs": [],
   "source": []
  },
  {
   "cell_type": "code",
   "execution_count": null,
   "id": "38654822",
   "metadata": {},
   "outputs": [],
   "source": []
  }
 ],
 "metadata": {
  "kernelspec": {
   "display_name": "Python 3.10.6 ('pystages')",
   "language": "python",
   "name": "python3"
  },
  "language_info": {
   "codemirror_mode": {
    "name": "ipython",
    "version": 3
   },
   "file_extension": ".py",
   "mimetype": "text/x-python",
   "name": "python",
   "nbconvert_exporter": "python",
   "pygments_lexer": "ipython3",
   "version": "3.10.6"
  },
  "vscode": {
   "interpreter": {
    "hash": "e585d374553da2f6d109a7329fc966c74d7036d7cc8494a6df69d17fb8eda2dc"
   }
  }
 },
 "nbformat": 4,
 "nbformat_minor": 5
}
