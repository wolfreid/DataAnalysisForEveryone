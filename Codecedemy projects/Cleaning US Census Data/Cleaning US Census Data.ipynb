{
 "cells": [
  {
   "cell_type": "markdown",
   "metadata": {},
   "source": [
    "# Cleaning US Census Data"
   ]
  },
  {
   "cell_type": "markdown",
   "metadata": {},
   "source": [
    "You just got hired as a Data Analyst at the Census Bureau, which collects census data and creates interesting visualizations and insights from it.\n",
    "\n",
    "The person who had your job before you left you all the data they had for the most recent census. It is in multiple `csv` files. They didn't use pandas, they would just look through these `csv` files manually whenever they wanted to find something. Sometimes they would copy and paste certain numbers into Excel to make charts.\n",
    "\n",
    "The thought of it makes you shiver. This is not scalable or repeatable.\n",
    "\n",
    "Your boss wants you to make some scatterplots and histograms by the end of the day. Can you get this data into `pandas` and into reasonable shape so that you can make these histograms?"
   ]
  },
  {
   "cell_type": "markdown",
   "metadata": {},
   "source": [
    "## Inspect the Data!"
   ]
  },
  {
   "cell_type": "markdown",
   "metadata": {},
   "source": [
    "1. The first visualization your boss wants you to make is a scatterplot that shows average income in a state vs proportion of women in that state.\n",
    "\n",
    "   Open some of the census `csv` files that came with the kit you downloaded. How are they named? What kind of information do they hold? Will they help us make this graph?"
   ]
  },
  {
   "cell_type": "code",
   "execution_count": null,
   "metadata": {},
   "outputs": [],
   "source": []
  },
  {
   "cell_type": "markdown",
   "metadata": {},
   "source": [
    "2. It will be easier to inspect this data once we have it in a DataFrame. You can't even call `.head()` on these `csv`s! How are you supposed to read them?\n",
    "\n",
    "   Using `glob`, loop through the census files available and load them into DataFrames. Then, concatenate all of those DataFrames together into one DataFrame, called something like `us_census`."
   ]
  },
  {
   "cell_type": "code",
   "execution_count": 127,
   "metadata": {},
   "outputs": [],
   "source": [
    "import pandas as pd\n",
    "import numpy as np\n",
    "import matplotlib.pyplot as plt\n",
    "import glob"
   ]
  },
  {
   "cell_type": "markdown",
   "metadata": {},
   "source": [
    "3. Look at the `.columns` and the `.dtypes` of the `us_census` DataFrame. Are those datatypes going to hinder you as you try to make histograms?"
   ]
  },
  {
   "cell_type": "code",
   "execution_count": 128,
   "metadata": {},
   "outputs": [],
   "source": [
    "files = glob.glob(\"states[0-9].csv\")\n",
    "df_list = []\n",
    "for filename in files:\n",
    "    data  = pd.read_csv(filename)\n",
    "    df_list.append(data)\n",
    "df = pd.concat(df_list).reset_index(drop=True)\n",
    "df  = df[df.columns.drop(list(df.filter(regex='Unnamed')))]\n"
   ]
  },
  {
   "cell_type": "markdown",
   "metadata": {},
   "source": [
    "4. Look at the `head()` of the DataFrame so that you can understand why some of these `dtypes` are objects instead of integers or floats.\n",
    "\n",
    "   Start to make a plan for how to convert these columns into the right types for manipulation."
   ]
  },
  {
   "cell_type": "code",
   "execution_count": 129,
   "metadata": {},
   "outputs": [],
   "source": [
    "# df.astype.apply()\n",
    "value_vars  = \"Hispanic,White,Black,Native,Asian,Pacific\"\n",
    "df = pd.melt(frame= df,id_vars=[\"State\",\"TotalPop\",\"Income\",\"GenderPop\"]\n",
    "            ,value_vars=value_vars.split(\",\")\n",
    "            ,value_name  = 'share'\n",
    "            ,var_name  = 'race')\n",
    "df['share'] = df['share'].str[:-1]          \n",
    "     "
   ]
  },
  {
   "cell_type": "markdown",
   "metadata": {},
   "source": [
    "## Regex to the Rescue"
   ]
  },
  {
   "cell_type": "markdown",
   "metadata": {},
   "source": [
    "5. Use regex to turn the `Income` column into a format that is ready for conversion into a numerical type."
   ]
  },
  {
   "cell_type": "code",
   "execution_count": 130,
   "metadata": {},
   "outputs": [],
   "source": [
    "df[\"Income\"] = df.Income.replace('[\\$,]', '', regex=True)"
   ]
  },
  {
   "cell_type": "markdown",
   "metadata": {},
   "source": [
    "6. Look at the `GenderPop` column. We are going to want to separate this into two columns, the `Men` column, and the `Women` column.\n",
    "\n",
    "   Split the column into those two new columns using `str.split` and separating out those results."
   ]
  },
  {
   "cell_type": "code",
   "execution_count": 131,
   "metadata": {},
   "outputs": [],
   "source": [
    "GenderPop =  df[\"GenderPop\"].str.split(\"_\")\n",
    "df['Men'] = GenderPop.str.get(0).str.replace('\\D','',regex = True)\n",
    "df['Women'] = GenderPop.str.get(1).str.replace('\\D','',regex = True)\n",
    "df.drop(columns='GenderPop',inplace=True)\n",
    "df_converted = df[['Income','share','Men','Women']].apply(pd.to_numeric) \n",
    "df[['Income','share','Men','Women']] = df_converted\n"
   ]
  },
  {
   "cell_type": "code",
   "execution_count": 132,
   "metadata": {},
   "outputs": [
    {
     "data": {
      "text/html": [
       "<div>\n",
       "<style scoped>\n",
       "    .dataframe tbody tr th:only-of-type {\n",
       "        vertical-align: middle;\n",
       "    }\n",
       "\n",
       "    .dataframe tbody tr th {\n",
       "        vertical-align: top;\n",
       "    }\n",
       "\n",
       "    .dataframe thead th {\n",
       "        text-align: right;\n",
       "    }\n",
       "</style>\n",
       "<table border=\"1\" class=\"dataframe\">\n",
       "  <thead>\n",
       "    <tr style=\"text-align: right;\">\n",
       "      <th></th>\n",
       "      <th>State</th>\n",
       "      <th>TotalPop</th>\n",
       "      <th>Income</th>\n",
       "      <th>race</th>\n",
       "      <th>share</th>\n",
       "      <th>Men</th>\n",
       "      <th>Women</th>\n",
       "    </tr>\n",
       "  </thead>\n",
       "  <tbody>\n",
       "    <tr>\n",
       "      <th>0</th>\n",
       "      <td>Alabama</td>\n",
       "      <td>4830620</td>\n",
       "      <td>43296.36</td>\n",
       "      <td>Hispanic</td>\n",
       "      <td>3.75</td>\n",
       "      <td>2341093</td>\n",
       "      <td>2489527.0</td>\n",
       "    </tr>\n",
       "    <tr>\n",
       "      <th>1</th>\n",
       "      <td>Alaska</td>\n",
       "      <td>733375</td>\n",
       "      <td>70354.74</td>\n",
       "      <td>Hispanic</td>\n",
       "      <td>5.91</td>\n",
       "      <td>384160</td>\n",
       "      <td>349215.0</td>\n",
       "    </tr>\n",
       "    <tr>\n",
       "      <th>2</th>\n",
       "      <td>Arizona</td>\n",
       "      <td>6641928</td>\n",
       "      <td>54207.82</td>\n",
       "      <td>Hispanic</td>\n",
       "      <td>29.57</td>\n",
       "      <td>3299088</td>\n",
       "      <td>3342840.0</td>\n",
       "    </tr>\n",
       "    <tr>\n",
       "      <th>3</th>\n",
       "      <td>Arkansas</td>\n",
       "      <td>2958208</td>\n",
       "      <td>41935.63</td>\n",
       "      <td>Hispanic</td>\n",
       "      <td>6.22</td>\n",
       "      <td>1451913</td>\n",
       "      <td>1506295.0</td>\n",
       "    </tr>\n",
       "    <tr>\n",
       "      <th>4</th>\n",
       "      <td>California</td>\n",
       "      <td>38421464</td>\n",
       "      <td>67264.78</td>\n",
       "      <td>Hispanic</td>\n",
       "      <td>37.29</td>\n",
       "      <td>19087135</td>\n",
       "      <td>19334329.0</td>\n",
       "    </tr>\n",
       "    <tr>\n",
       "      <th>...</th>\n",
       "      <td>...</td>\n",
       "      <td>...</td>\n",
       "      <td>...</td>\n",
       "      <td>...</td>\n",
       "      <td>...</td>\n",
       "      <td>...</td>\n",
       "      <td>...</td>\n",
       "    </tr>\n",
       "    <tr>\n",
       "      <th>355</th>\n",
       "      <td>Vermont</td>\n",
       "      <td>626604</td>\n",
       "      <td>55602.97</td>\n",
       "      <td>Pacific</td>\n",
       "      <td>0.03</td>\n",
       "      <td>308573</td>\n",
       "      <td>318031.0</td>\n",
       "    </tr>\n",
       "    <tr>\n",
       "      <th>356</th>\n",
       "      <td>Virginia</td>\n",
       "      <td>8256630</td>\n",
       "      <td>72866.01</td>\n",
       "      <td>Pacific</td>\n",
       "      <td>0.06</td>\n",
       "      <td>4060948</td>\n",
       "      <td>4195682.0</td>\n",
       "    </tr>\n",
       "    <tr>\n",
       "      <th>357</th>\n",
       "      <td>Washington</td>\n",
       "      <td>6985464</td>\n",
       "      <td>64493.77</td>\n",
       "      <td>Pacific</td>\n",
       "      <td>0.61</td>\n",
       "      <td>3487725</td>\n",
       "      <td>3497739.0</td>\n",
       "    </tr>\n",
       "    <tr>\n",
       "      <th>358</th>\n",
       "      <td>West Virginia</td>\n",
       "      <td>1851420</td>\n",
       "      <td>41437.11</td>\n",
       "      <td>Pacific</td>\n",
       "      <td>0.03</td>\n",
       "      <td>913631</td>\n",
       "      <td>937789.0</td>\n",
       "    </tr>\n",
       "    <tr>\n",
       "      <th>359</th>\n",
       "      <td>Wisconsin</td>\n",
       "      <td>5742117</td>\n",
       "      <td>53898.89</td>\n",
       "      <td>Pacific</td>\n",
       "      <td>0.02</td>\n",
       "      <td>2851385</td>\n",
       "      <td>2890732.0</td>\n",
       "    </tr>\n",
       "  </tbody>\n",
       "</table>\n",
       "<p>360 rows × 7 columns</p>\n",
       "</div>"
      ],
      "text/plain": [
       "             State  TotalPop    Income      race  share       Men       Women\n",
       "0          Alabama   4830620  43296.36  Hispanic   3.75   2341093   2489527.0\n",
       "1           Alaska    733375  70354.74  Hispanic   5.91    384160    349215.0\n",
       "2          Arizona   6641928  54207.82  Hispanic  29.57   3299088   3342840.0\n",
       "3         Arkansas   2958208  41935.63  Hispanic   6.22   1451913   1506295.0\n",
       "4       California  38421464  67264.78  Hispanic  37.29  19087135  19334329.0\n",
       "..             ...       ...       ...       ...    ...       ...         ...\n",
       "355        Vermont    626604  55602.97   Pacific   0.03    308573    318031.0\n",
       "356       Virginia   8256630  72866.01   Pacific   0.06   4060948   4195682.0\n",
       "357     Washington   6985464  64493.77   Pacific   0.61   3487725   3497739.0\n",
       "358  West Virginia   1851420  41437.11   Pacific   0.03    913631    937789.0\n",
       "359      Wisconsin   5742117  53898.89   Pacific   0.02   2851385   2890732.0\n",
       "\n",
       "[360 rows x 7 columns]"
      ]
     },
     "execution_count": 132,
     "metadata": {},
     "output_type": "execute_result"
    }
   ],
   "source": [
    "df"
   ]
  },
  {
   "cell_type": "markdown",
   "metadata": {},
   "source": [
    "7. Convert both of the columns into numerical datatypes.\n",
    "\n",
    "   There is still an `M` or an `F` character in each entry! We should remove those before we convert."
   ]
  },
  {
   "cell_type": "markdown",
   "metadata": {},
   "source": [
    "8. Now you should have the columns you need to make the graph and make sure your boss does not slam a ruler angrily on your desk because you've wasted your whole day cleaning your data with no results to show!\n",
    "\n",
    "   Use matplotlib to make a scatterplot!\n",
    "   \n",
    "   ```py\n",
    "   plt.scatter(the_women_column, the_income_column)\n",
    "   ```\n",
    "   \n",
    "   Remember to call `plt.show()` to see the graph!"
   ]
  },
  {
   "cell_type": "code",
   "execution_count": 133,
   "metadata": {},
   "outputs": [
    {
     "data": {
      "image/png": "[encoded data removed]",
      "text/plain": [
       "<Figure size 432x288 with 1 Axes>"
      ]
     },
     "metadata": {
      "needs_background": "light"
     },
     "output_type": "display_data"
    }
   ],
   "source": [
    "import matplotlib as mpl\n",
    "colormap = plt.cm.bwr\n",
    "normalize = mpl.colors.Normalize(vmin=-1, vmax=1)\n",
    "plt.scatter(df[\"Women\"],df[\"Income\"],cmap=colormap, norm=normalize, marker='*')\n",
    "plt.scatter(df[\"Men\"],df[\"Income\"],cmap=colormap, norm=normalize, marker='*')\n",
    "plt.show()"
   ]
  },
  {
   "cell_type": "markdown",
   "metadata": {},
   "source": [
    "9. You want to double check your work. You know from experience that these monstrous csv files probably have `nan` values in them! Print out your column with the number of women per state to see.\n",
    "\n",
    "   We can fill in those `nan`s by using pandas' `.fillna()` function.\n",
    "   \n",
    "   You have the `TotalPop` per state, and you have the `Men` per state. As an estimate for the `nan` values in the `Women` column, you could use the `TotalPop` of that state minus the `Men` for that state.\n",
    "   \n",
    "   Print out the `Women` column after filling the `nan` values to see if it worked!"
   ]
  },
  {
   "cell_type": "code",
   "execution_count": 136,
   "metadata": {},
   "outputs": [],
   "source": [
    "df.Women = df.Women.fillna(df.TotalPop- df.Men)"
   ]
  },
  {
   "cell_type": "markdown",
   "metadata": {},
   "source": [
    "10. We forgot to check for duplicates! Use `.duplicated()` on your `census` DataFrame to see if we have duplicate rows in there."
   ]
  },
  {
   "cell_type": "code",
   "execution_count": 145,
   "metadata": {},
   "outputs": [
    {
     "data": {
      "text/html": [
       "<div>\n",
       "<style scoped>\n",
       "    .dataframe tbody tr th:only-of-type {\n",
       "        vertical-align: middle;\n",
       "    }\n",
       "\n",
       "    .dataframe tbody tr th {\n",
       "        vertical-align: top;\n",
       "    }\n",
       "\n",
       "    .dataframe thead th {\n",
       "        text-align: right;\n",
       "    }\n",
       "</style>\n",
       "<table border=\"1\" class=\"dataframe\">\n",
       "  <thead>\n",
       "    <tr style=\"text-align: right;\">\n",
       "      <th></th>\n",
       "      <th>State</th>\n",
       "      <th>TotalPop</th>\n",
       "      <th>Income</th>\n",
       "      <th>race</th>\n",
       "      <th>share</th>\n",
       "      <th>Men</th>\n",
       "      <th>Women</th>\n",
       "    </tr>\n",
       "  </thead>\n",
       "  <tbody>\n",
       "    <tr>\n",
       "      <th>5</th>\n",
       "      <td>Colorado</td>\n",
       "      <td>5278906</td>\n",
       "      <td>64657.80</td>\n",
       "      <td>Hispanic</td>\n",
       "      <td>20.78</td>\n",
       "      <td>2648667</td>\n",
       "      <td>2630239.0</td>\n",
       "    </tr>\n",
       "    <tr>\n",
       "      <th>6</th>\n",
       "      <td>Colorado</td>\n",
       "      <td>5278906</td>\n",
       "      <td>64657.80</td>\n",
       "      <td>Hispanic</td>\n",
       "      <td>20.78</td>\n",
       "      <td>2648667</td>\n",
       "      <td>2630239.0</td>\n",
       "    </tr>\n",
       "    <tr>\n",
       "      <th>11</th>\n",
       "      <td>Georgia</td>\n",
       "      <td>10006693</td>\n",
       "      <td>50811.08</td>\n",
       "      <td>Hispanic</td>\n",
       "      <td>8.42</td>\n",
       "      <td>4883331</td>\n",
       "      <td>5123362.0</td>\n",
       "    </tr>\n",
       "    <tr>\n",
       "      <th>12</th>\n",
       "      <td>Georgia</td>\n",
       "      <td>10006693</td>\n",
       "      <td>50811.08</td>\n",
       "      <td>Hispanic</td>\n",
       "      <td>8.42</td>\n",
       "      <td>4883331</td>\n",
       "      <td>5123362.0</td>\n",
       "    </tr>\n",
       "    <tr>\n",
       "      <th>17</th>\n",
       "      <td>Iowa</td>\n",
       "      <td>3093526</td>\n",
       "      <td>53017.75</td>\n",
       "      <td>Hispanic</td>\n",
       "      <td>5.30</td>\n",
       "      <td>1534595</td>\n",
       "      <td>1558931.0</td>\n",
       "    </tr>\n",
       "    <tr>\n",
       "      <th>...</th>\n",
       "      <td>...</td>\n",
       "      <td>...</td>\n",
       "      <td>...</td>\n",
       "      <td>...</td>\n",
       "      <td>...</td>\n",
       "      <td>...</td>\n",
       "      <td>...</td>\n",
       "    </tr>\n",
       "    <tr>\n",
       "      <th>342</th>\n",
       "      <td>Ohio</td>\n",
       "      <td>11575977</td>\n",
       "      <td>49655.25</td>\n",
       "      <td>Pacific</td>\n",
       "      <td>0.02</td>\n",
       "      <td>5662893</td>\n",
       "      <td>5913084.0</td>\n",
       "    </tr>\n",
       "    <tr>\n",
       "      <th>347</th>\n",
       "      <td>Rhode Island</td>\n",
       "      <td>1053661</td>\n",
       "      <td>59125.27</td>\n",
       "      <td>Pacific</td>\n",
       "      <td>0.04</td>\n",
       "      <td>510388</td>\n",
       "      <td>543273.0</td>\n",
       "    </tr>\n",
       "    <tr>\n",
       "      <th>348</th>\n",
       "      <td>Rhode Island</td>\n",
       "      <td>1053661</td>\n",
       "      <td>59125.27</td>\n",
       "      <td>Pacific</td>\n",
       "      <td>0.04</td>\n",
       "      <td>510388</td>\n",
       "      <td>543273.0</td>\n",
       "    </tr>\n",
       "    <tr>\n",
       "      <th>353</th>\n",
       "      <td>Utah</td>\n",
       "      <td>2903379</td>\n",
       "      <td>63488.92</td>\n",
       "      <td>Pacific</td>\n",
       "      <td>0.83</td>\n",
       "      <td>1459229</td>\n",
       "      <td>1444150.0</td>\n",
       "    </tr>\n",
       "    <tr>\n",
       "      <th>354</th>\n",
       "      <td>Utah</td>\n",
       "      <td>2903379</td>\n",
       "      <td>63488.92</td>\n",
       "      <td>Pacific</td>\n",
       "      <td>0.83</td>\n",
       "      <td>1459229</td>\n",
       "      <td>1444150.0</td>\n",
       "    </tr>\n",
       "  </tbody>\n",
       "</table>\n",
       "<p>108 rows × 7 columns</p>\n",
       "</div>"
      ],
      "text/plain": [
       "            State  TotalPop    Income      race  share      Men      Women\n",
       "5        Colorado   5278906  64657.80  Hispanic  20.78  2648667  2630239.0\n",
       "6        Colorado   5278906  64657.80  Hispanic  20.78  2648667  2630239.0\n",
       "11        Georgia  10006693  50811.08  Hispanic   8.42  4883331  5123362.0\n",
       "12        Georgia  10006693  50811.08  Hispanic   8.42  4883331  5123362.0\n",
       "17           Iowa   3093526  53017.75  Hispanic   5.30  1534595  1558931.0\n",
       "..            ...       ...       ...       ...    ...      ...        ...\n",
       "342          Ohio  11575977  49655.25   Pacific   0.02  5662893  5913084.0\n",
       "347  Rhode Island   1053661  59125.27   Pacific   0.04   510388   543273.0\n",
       "348  Rhode Island   1053661  59125.27   Pacific   0.04   510388   543273.0\n",
       "353          Utah   2903379  63488.92   Pacific   0.83  1459229  1444150.0\n",
       "354          Utah   2903379  63488.92   Pacific   0.83  1459229  1444150.0\n",
       "\n",
       "[108 rows x 7 columns]"
      ]
     },
     "execution_count": 145,
     "metadata": {},
     "output_type": "execute_result"
    }
   ],
   "source": [
    "df[df.duplicated(keep = False)]"
   ]
  },
  {
   "cell_type": "markdown",
   "metadata": {},
   "source": [
    "11. Drop those duplicates using the `.drop_duplicates()` function."
   ]
  },
  {
   "cell_type": "code",
   "execution_count": 146,
   "metadata": {},
   "outputs": [],
   "source": [
    "df.drop_duplicates(inplace=True)"
   ]
  },
  {
   "cell_type": "markdown",
   "metadata": {},
   "source": [
    "12. Make the scatterplot again. Now, it should be perfect! Your job is secure, for now."
   ]
  },
  {
   "cell_type": "code",
   "execution_count": 147,
   "metadata": {},
   "outputs": [
    {
     "data": {
      "image/png": "[encoded data removed]",
      "text/plain": [
       "<Figure size 432x288 with 1 Axes>"
      ]
     },
     "metadata": {
      "needs_background": "light"
     },
     "output_type": "display_data"
    }
   ],
   "source": [
    "import matplotlib as mpl\n",
    "colormap = plt.cm.bwr\n",
    "normalize = mpl.colors.Normalize(vmin=-1, vmax=1)\n",
    "plt.scatter(df[\"Women\"],df[\"Income\"],cmap=colormap, norm=normalize, marker='*')\n",
    "plt.scatter(df[\"Men\"],df[\"Income\"],cmap=colormap, norm=normalize, marker='*')\n",
    "plt.show()"
   ]
  },
  {
   "cell_type": "markdown",
   "metadata": {},
   "source": [
    "## Histogram of Races"
   ]
  },
  {
   "cell_type": "markdown",
   "metadata": {},
   "source": [
    "13. Now your boss wants you to make a bunch of histograms out of the race data that you have. Look at the `.columns` again to see what the race categories are."
   ]
  },
  {
   "cell_type": "markdown",
   "metadata": {},
   "source": [
    "14. Try to make a histogram for each one!\n",
    "\n",
    "    You will have to get the columns into the numerical format, and those percentage signs will have to go.\n",
    "    \n",
    "    Don't forget to fill the `nan` values with something that makes sense! You probably dropped the duplicate rows when making your last graph, but it couldn't hurt to check for duplicates again."
   ]
  },
  {
   "cell_type": "code",
   "execution_count": 158,
   "metadata": {},
   "outputs": [
    {
     "data": {
      "text/plain": [
       "<matplotlib.legend.Legend at 0x1bb95494910>"
      ]
     },
     "execution_count": 158,
     "metadata": {},
     "output_type": "execute_result"
    },
    {
     "data": {
      "image/png": "[encoded data removed]",
      "text/plain": [
       "<Figure size 432x288 with 1 Axes>"
      ]
     },
     "metadata": {
      "needs_background": "light"
     },
     "output_type": "display_data"
    }
   ],
   "source": [
    "plt.hist(df[df.race== \"White\"].share)\n",
    "plt.hist(df[df.race== \"Hispanic\"].share)\n",
    "plt.hist(df[df.race== \"Native\"].share)\n",
    "plt.hist(df[df.race== \"Black\"].share)\n",
    "plt.hist(df[df.race== \"Asian\"].share)\n",
    "plt.hist(df[df.race== \"Pacific\"].share)\n",
    "labels= [\"White\",\"Hispanic\",\"Native\",\"Black\",\"Asian\",\"Pacific\"]\n",
    "plt.legend(labels)\n"
   ]
  },
  {
   "cell_type": "markdown",
   "metadata": {},
   "source": [
    "## Get Creative"
   ]
  },
  {
   "cell_type": "markdown",
   "metadata": {},
   "source": [
    "15. Phew. You've definitely impressed your boss on your first day of work.\n",
    "\n",
    "    But is there a way you really convey the power of pandas and Python over the drudgery of `csv` and Excel?\n",
    "    \n",
    "    Try to make some more interesting graphs to show your boss, and the world! You may need to clean the data even more to do it, or the cleaning you have already done may give you the ease of manipulation you've been searching for."
   ]
  },
  {
   "cell_type": "code",
   "execution_count": null,
   "metadata": {},
   "outputs": [],
   "source": []
  }
 ],
 "metadata": {
  "kernelspec": {
   "display_name": "Python 3.10.6 ('pystages')",
   "language": "python",
   "name": "python3"
  },
  "language_info": {
   "codemirror_mode": {
    "name": "ipython",
    "version": 3
   },
   "file_extension": ".py",
   "mimetype": "text/x-python",
   "name": "python",
   "nbconvert_exporter": "python",
   "pygments_lexer": "ipython3",
   "version": "3.10.6"
  },
  "vscode": {
   "interpreter": {
    "hash": "e585d374553da2f6d109a7329fc966c74d7036d7cc8494a6df69d17fb8eda2dc"
   }
  }
 },
 "nbformat": 4,
 "nbformat_minor": 2
}
