{
 "cells": [
  {
   "cell_type": "markdown",
   "metadata": {},
   "source": [
    "tstat,pval = ttest_1samp(chol_hd,240,alternative=\"greater\")"
   ]
  },
  {
   "cell_type": "code",
   "execution_count": 1,
   "metadata": {},
   "outputs": [
    {
     "data": {
      "text/plain": [
       "242.640243902439"
      ]
     },
     "execution_count": 1,
     "metadata": {},
     "output_type": "execute_result"
    }
   ],
   "source": [
    "import pandas as pd\n",
    "import numpy as np\n",
    "\n",
    "# load data\n",
    "heart = pd.read_csv('heart_disease.csv')\n",
    "yes_hd = heart[heart.heart_disease == 'presence']\n",
    "no_hd = heart[heart.heart_disease == 'absence']\n",
    "chol_hd = yes_hd.chol\n",
    "nonchol_hd = no_hd.chol \n",
    "chol = np.mean(chol_hd)\n",
    "nonchol = np.mean(nonchol_hd)\n",
    "nonchol"
   ]
  },
  {
   "cell_type": "code",
   "execution_count": 2,
   "metadata": {},
   "outputs": [],
   "source": [
    "import scipy"
   ]
  },
  {
   "cell_type": "code",
   "execution_count": 43,
   "metadata": {},
   "outputs": [
    {
     "name": "stderr",
     "output_type": "stream",
     "text": [
      "C:\\Users\\Roman.Prylypko\\AppData\\Local\\Temp\\ipykernel_17320\\2510682998.py:6: RuntimeWarning: Precision loss occurred in moment calculation due to catastrophic cancellation. This occurs when the data are nearly identical. Results may be unreliable.\n",
      "  tstat,pval = ttest_1samp(230,240,alternative=\"greater\")\n",
      "C:\\Users\\Roman.Prylypko\\AppData\\Roaming\\Python\\Python310\\site-packages\\scipy\\stats\\_stats_py.py:1253: RuntimeWarning: divide by zero encountered in divide\n",
      "  var *= np.divide(n, n-ddof)  # to avoid error on division by zero\n",
      "C:\\Users\\Roman.Prylypko\\AppData\\Roaming\\Python\\Python310\\site-packages\\scipy\\stats\\_stats_py.py:1253: RuntimeWarning: invalid value encountered in double_scalars\n",
      "  var *= np.divide(n, n-ddof)  # to avoid error on division by zero\n"
     ]
    },
    {
     "data": {
      "text/plain": [
       "False"
      ]
     },
     "execution_count": 43,
     "metadata": {},
     "output_type": "execute_result"
    }
   ],
   "source": [
    "#для сердечников\n",
    "# tstat>1.96\n",
    "#значит, в среднем по совокупности значение холестерола выше 240 милиграм\n",
    "#251>240 -значимо \n",
    "from scipy.stats import ttest_1samp\n",
    "tstat,pval = ttest_1samp(230,240,alternative=\"greater\")\n",
    "tstat,pval\n",
    "pval<0.05"
   ]
  },
  {
   "cell_type": "code",
   "execution_count": 44,
   "metadata": {},
   "outputs": [
    {
     "data": {
      "text/plain": [
       "nan"
      ]
     },
     "execution_count": 44,
     "metadata": {},
     "output_type": "execute_result"
    }
   ],
   "source": [
    "pval"
   ]
  },
  {
   "cell_type": "code",
   "execution_count": 13,
   "metadata": {},
   "outputs": [
    {
     "data": {
      "text/plain": [
       "True"
      ]
     },
     "execution_count": 13,
     "metadata": {},
     "output_type": "execute_result"
    }
   ],
   "source": [
    "#для несердечников\n",
    "from scipy.stats import ttest_1samp,binom_test\n",
    "tstat,pval = ttest_1samp(nonchol_hd,240)\n",
    "tstat,pval\n",
    "pval>0.05"
   ]
  },
  {
   "cell_type": "code",
   "execution_count": 17,
   "metadata": {},
   "outputs": [
    {
     "data": {
      "text/plain": [
       "4.689471951448875e-05"
      ]
     },
     "execution_count": 17,
     "metadata": {},
     "output_type": "execute_result"
    }
   ],
   "source": [
    "#вывод процент в наблюдамой выборке значительно больше процента заболевших в тестовой выборке, значимо больше 8%\n",
    "num_patients = len(heart)\n",
    "num_highfbs_patients = len(heart[heart.fbs == 1])\n",
    "num_highfbs_patients\n",
    "diabetes_risks = num_highfbs_patients/num_patients\n",
    "hypotesis_count_diabetes = 0.08*len(heart)\n",
    "num_highfbs_patients,hypotesis_count_diabetes\n",
    "\n",
    "p_val = binom_test(num_highfbs_patients, num_patients, .08,alternative = 'greater')\n",
    "p_val"
   ]
  },
  {
   "cell_type": "markdown",
   "metadata": {},
   "source": [
    "two_sample_testing"
   ]
  },
  {
   "cell_type": "code",
   "execution_count": 37,
   "metadata": {},
   "outputs": [
    {
     "data": {
      "text/plain": [
       "(0.24445867408694533, 0.0174580891372923)"
      ]
     },
     "execution_count": 37,
     "metadata": {},
     "output_type": "execute_result"
    }
   ],
   "source": [
    "# import seaborn as sns\n",
    "\n",
    "from scipy.stats import ttest_ind \n",
    "import numpy as np \n",
    "import random\n",
    "# tstat, pval = ttest_ind(times_version1, times_version2)\n",
    "population = list(range(0,160))\n",
    "a_array = random.sample(population, 20)\n",
    "b_array = random.sample(population, 20)\n",
    "\n",
    "c = random.sample(population, 20)\n",
    "\n",
    "ttest_2,a_c_pval = ttest_ind(a_array, c)\n",
    "ttest_3,b_c_pval = ttest_ind(b_array, c)\n",
    "\n",
    "a_c_pval,b_c_pval"
   ]
  },
  {
   "cell_type": "code",
   "execution_count": 42,
   "metadata": {},
   "outputs": [
    {
     "data": {
      "text/plain": [
       "(86.7, 69.2, 102.2, 69.2)"
      ]
     },
     "execution_count": 42,
     "metadata": {},
     "output_type": "execute_result"
    }
   ],
   "source": [
    "# пример значимых и незначимых отличий\n",
    "example = np.mean(a_array),np.mean(c),np.mean(b_array),np.mean(c)"
   ]
  },
  {
   "cell_type": "code",
   "execution_count": 22,
   "metadata": {},
   "outputs": [
    {
     "name": "stdout",
     "output_type": "stream",
     "text": [
      "0.017495361236510316 0.9861329728256034\n"
     ]
    }
   ],
   "source": [
    "array1  = a_array\n",
    "array2 = b_array\n",
    "ttest,a_b_pval = ttest_ind(a_array, b_array)\n",
    "print(ttest,a_b_pval)"
   ]
  },
  {
   "cell_type": "code",
   "execution_count": 6,
   "metadata": {},
   "outputs": [
    {
     "ename": "NameError",
     "evalue": "name 'ttest' is not defined",
     "output_type": "error",
     "traceback": [
      "\u001b[1;31m---------------------------------------------------------------------------\u001b[0m",
      "\u001b[1;31mNameError\u001b[0m                                 Traceback (most recent call last)",
      "\u001b[1;32mc:\\Users\\Roman.Prylypko\\Documents\\MY EDUCATION\\pystages\\HOME Data Scientist\\Ralien - Python\\2022\\Section2021\\hypotesis - sample_test_practice.ipynb Cell 9\u001b[0m in \u001b[0;36m<cell line: 27>\u001b[1;34m()\u001b[0m\n\u001b[0;32m     <a href='vscode-notebook-cell:/c%3A/Users/Roman.Prylypko/Documents/MY%20EDUCATION/pystages/HOME%20Data%20Scientist/Ralien%20-%20Python/2022/Section2021/hypotesis%20-%20sample_test_practice.ipynb#X11sZmlsZQ%3D%3D?line=24'>25</a>\u001b[0m plt\u001b[39m.\u001b[39mplot(xs_2, critline,\u001b[39m'\u001b[39m\u001b[39mr\u001b[39m\u001b[39m'\u001b[39m, label\u001b[39m=\u001b[39m\u001b[39m\"\u001b[39m\u001b[39mt* for dof=38\u001b[39m\u001b[39m\"\u001b[39m)\n\u001b[0;32m     <a href='vscode-notebook-cell:/c%3A/Users/Roman.Prylypko/Documents/MY%20EDUCATION/pystages/HOME%20Data%20Scientist/Ralien%20-%20Python/2022/Section2021/hypotesis%20-%20sample_test_practice.ipynb#X11sZmlsZQ%3D%3D?line=25'>26</a>\u001b[0m plt\u001b[39m.\u001b[39mvlines([\u001b[39m-\u001b[39mtcrit, tcrit], \u001b[39m0.0\u001b[39m, st\u001b[39m.\u001b[39mt\u001b[39m.\u001b[39mpdf(tcrit,dof), colors\u001b[39m=\u001b[39m\u001b[39m'\u001b[39m\u001b[39mr\u001b[39m\u001b[39m'\u001b[39m)\n\u001b[1;32m---> <a href='vscode-notebook-cell:/c%3A/Users/Roman.Prylypko/Documents/MY%20EDUCATION/pystages/HOME%20Data%20Scientist/Ralien%20-%20Python/2022/Section2021/hypotesis%20-%20sample_test_practice.ipynb#X11sZmlsZQ%3D%3D?line=26'>27</a>\u001b[0m plt\u001b[39m.\u001b[39mvlines([\u001b[39m-\u001b[39mttest, ttest], \u001b[39m0.0\u001b[39m, st\u001b[39m.\u001b[39mt\u001b[39m.\u001b[39mpdf(ttest,dof), colors\u001b[39m=\u001b[39m\u001b[39m'\u001b[39m\u001b[39mg\u001b[39m\u001b[39m'\u001b[39m)\n\u001b[0;32m     <a href='vscode-notebook-cell:/c%3A/Users/Roman.Prylypko/Documents/MY%20EDUCATION/pystages/HOME%20Data%20Scientist/Ralien%20-%20Python/2022/Section2021/hypotesis%20-%20sample_test_practice.ipynb#X11sZmlsZQ%3D%3D?line=27'>28</a>\u001b[0m plt\u001b[39m.\u001b[39mlegend()\n\u001b[0;32m     <a href='vscode-notebook-cell:/c%3A/Users/Roman.Prylypko/Documents/MY%20EDUCATION/pystages/HOME%20Data%20Scientist/Ralien%20-%20Python/2022/Section2021/hypotesis%20-%20sample_test_practice.ipynb#X11sZmlsZQ%3D%3D?line=28'>29</a>\u001b[0m \u001b[39mprint\u001b[39m(st\u001b[39m.\u001b[39mt\u001b[39m.\u001b[39mpdf(ttest,dof))\n",
      "\u001b[1;31mNameError\u001b[0m: name 'ttest' is not defined"
     ]
    },
    {
     "data": {
      "image/png": "[encoded data removed]",
      "text/plain": [
       "<Figure size 432x288 with 1 Axes>"
      ]
     },
     "metadata": {
      "needs_background": "light"
     },
     "output_type": "display_data"
    }
   ],
   "source": [
    "#experiment 3\n",
    "## Basic T-Distribution\n",
    "import scipy.stats as st\n",
    "import matplotlib.pyplot as plt\n",
    "import numpy as np\n",
    "\n",
    "## Setup      \n",
    "dof = 38        # Degrees of freedom\n",
    "alpha = 0.05    # Significence level\n",
    "ntails = 2      # Number of tails \n",
    "fact = 0.01298\n",
    "## Calculate critical t-score\n",
    "tcrit = abs(st.t.ppf(alpha/ntails, dof))\n",
    "# +=2.068\n",
    "\n",
    "plt.figure()\n",
    "xs = np.linspace(-10,10,1000)\n",
    "plt.plot(xs, st.t.pdf(xs,dof), 'k', label=\"T-Distribution PDF\")\n",
    "\n",
    "## Plot some vertical lines representing critical t-score cutoff\n",
    "critline = np.linspace(0,alpha/ntails)  # y range for critical line, AKA probability from 0-p*\n",
    "xs_1 = len(critline) * [-tcrit]         # X ranges for plotting\n",
    "xs_2 = len(critline) * [tcrit]\n",
    "plt.plot(xs_1, critline, 'r', label=\"-t* for dof=38\")\n",
    "plt.plot(xs_2, critline,'r', label=\"t* for dof=38\")\n",
    "plt.vlines([-tcrit, tcrit], 0.0, st.t.pdf(tcrit,dof), colors='r')\n",
    "plt.vlines([-ttest, ttest], 0.0, st.t.pdf(ttest,dof), colors='g')\n",
    "plt.legend()\n",
    "print(st.t.pdf(ttest,dof))\n"
   ]
  },
  {
   "cell_type": "code",
   "execution_count": 27,
   "metadata": {},
   "outputs": [
    {
     "data": {
      "text/plain": [
       "(2277.09375, 85.95, 76.4)"
      ]
     },
     "execution_count": 27,
     "metadata": {},
     "output_type": "execute_result"
    }
   ],
   "source": [
    "np.mean([np.var(a),np.var(b)]),np.mean(a),np.mean(b)"
   ]
  },
  {
   "cell_type": "code",
   "execution_count": 28,
   "metadata": {},
   "outputs": [
    {
     "data": {
      "text/plain": [
       "0.012984571494869597"
      ]
     },
     "execution_count": 28,
     "metadata": {},
     "output_type": "execute_result"
    }
   ],
   "source": [
    "res  = 9.35/(2277.0938 * 0.31623)\n",
    "res"
   ]
  },
  {
   "cell_type": "code",
   "execution_count": 59,
   "metadata": {},
   "outputs": [
    {
     "data": {
      "image/png": "[encoded data removed]",
      "image/svg+xml": "<?xml version=\"1.0\" encoding=\"utf-8\" standalone=\"no\"?>\r\n<!DOCTYPE svg PUBLIC \"-//W3C//DTD SVG 1.1//EN\"\r\n  \"http://www.w3.org/Graphics/SVG/1.1/DTD/svg11.dtd\">\r\n<svg height=\"248.518125pt\" version=\"1.1\" viewBox=\"0 0 378.465625 248.518125\" width=\"378.465625pt\" xmlns=\"http://www.w3.org/2000/svg\" xmlns:xlink=\"http://www.w3.org/1999/xlink\">\r\n <metadata>\r\n  <rdf:RDF xmlns:cc=\"http://creativecommons.org/ns#\" xmlns:dc=\"http://purl.org/dc/elements/1.1/\" xmlns:rdf=\"http://www.w3.org/1999/02/22-rdf-syntax-ns#\">\r\n   <cc:Work>\r\n    <dc:type rdf:resource=\"http://purl.org/dc/dcmitype/StillImage\"/>\r\n    <dc:date>2021-08-01T19:58:14.253718</dc:date>\r\n    <dc:format>image/svg+xml</dc:format>\r\n    <dc:creator>\r\n     <cc:Agent>\r\n      <dc:title>Matplotlib v3.4.2, https://matplotlib.org/</dc:title>\r\n     </cc:Agent>\r\n    </dc:creator>\r\n   </cc:Work>\r\n  </rdf:RDF>\r\n </metadata>\r\n <defs>\r\n  <style type=\"text/css\">*{stroke-linecap:butt;stroke-linejoin:round;}</style>\r\n </defs>\r\n <g id=\"figure_1\">\r\n  <g id=\"patch_1\">\r\n   <path d=\"M 0 248.518125 \r\nL 378.465625 248.518125 \r\nL 378.465625 0 \r\nL 0 0 \r\nz\r\n\" style=\"fill:none;\"/>\r\n  </g>\r\n  <g id=\"axes_1\">\r\n   <g id=\"patch_2\">\r\n    <path d=\"M 36.465625 224.64 \r\nL 371.265625 224.64 \r\nL 371.265625 7.2 \r\nL 36.465625 7.2 \r\nz\r\n\" style=\"fill:#ffffff;\"/>\r\n   </g>\r\n   <g id=\"patch_3\">\r\n    <path clip-path=\"url(#p2c1dcc0b1c)\" d=\"M 51.683807 224.64 \r\nL 51.683807 224.219243 \r\nL 82.12017 224.219243 \r\nL 82.12017 222.11546 \r\nL 112.556534 222.11546 \r\nL 112.556534 197.080436 \r\nL 142.992898 197.080436 \r\nL 142.992898 68.749643 \r\nL 173.429261 68.749643 \r\nL 173.429261 203.181408 \r\nL 203.865625 203.181408 \r\nL 203.865625 223.37773 \r\nL 234.301989 223.37773 \r\nL 234.301989 223.798487 \r\nL 264.738352 223.798487 \r\nL 264.738352 224.429622 \r\nL 295.174716 224.429622 \r\nL 295.174716 224.64 \r\nL 325.61108 224.64 \r\nL 325.61108 224.429622 \r\nL 356.047443 224.429622 \r\nL 356.047443 224.64 \r\nL 325.61108 224.64 \r\nL 325.61108 224.64 \r\nL 295.174716 224.64 \r\nL 295.174716 224.64 \r\nL 264.738352 224.64 \r\nL 264.738352 224.64 \r\nL 234.301989 224.64 \r\nL 234.301989 224.64 \r\nL 203.865625 224.64 \r\nL 203.865625 224.64 \r\nL 173.429261 224.64 \r\nL 173.429261 224.64 \r\nL 142.992898 224.64 \r\nL 142.992898 224.64 \r\nL 112.556534 224.64 \r\nL 112.556534 224.64 \r\nL 82.12017 224.64 \r\nL 82.12017 224.64 \r\nz\r\n\" style=\"fill:#1f77b4;opacity:0.2;\"/>\r\n   </g>\r\n   <g id=\"matplotlib.axis_1\">\r\n    <g id=\"xtick_1\">\r\n     <g id=\"line2d_1\">\r\n      <defs>\r\n       <path d=\"M 0 0 \r\nL 0 3.5 \r\n\" id=\"m2bf2a41b00\" style=\"stroke:#000000;stroke-width:0.8;\"/>\r\n      </defs>\r\n      <g>\r\n       <use style=\"stroke:#000000;stroke-width:0.8;\" x=\"44.709575\" xlink:href=\"#m2bf2a41b00\" y=\"224.64\"/>\r\n      </g>\r\n     </g>\r\n     <g id=\"text_1\">\r\n      <!-- −10 -->\r\n      <g transform=\"translate(34.157231 239.238437)scale(0.1 -0.1)\">\r\n       <defs>\r\n        <path d=\"M 678 2272 \r\nL 4684 2272 \r\nL 4684 1741 \r\nL 678 1741 \r\nL 678 2272 \r\nz\r\n\" id=\"DejaVuSans-2212\" transform=\"scale(0.015625)\"/>\r\n        <path d=\"M 794 531 \r\nL 1825 531 \r\nL 1825 4091 \r\nL 703 3866 \r\nL 703 4441 \r\nL 1819 4666 \r\nL 2450 4666 \r\nL 2450 531 \r\nL 3481 531 \r\nL 3481 0 \r\nL 794 0 \r\nL 794 531 \r\nz\r\n\" id=\"DejaVuSans-31\" transform=\"scale(0.015625)\"/>\r\n        <path d=\"M 2034 4250 \r\nQ 1547 4250 1301 3770 \r\nQ 1056 3291 1056 2328 \r\nQ 1056 1369 1301 889 \r\nQ 1547 409 2034 409 \r\nQ 2525 409 2770 889 \r\nQ 3016 1369 3016 2328 \r\nQ 3016 3291 2770 3770 \r\nQ 2525 4250 2034 4250 \r\nz\r\nM 2034 4750 \r\nQ 2819 4750 3233 4129 \r\nQ 3647 3509 3647 2328 \r\nQ 3647 1150 3233 529 \r\nQ 2819 -91 2034 -91 \r\nQ 1250 -91 836 529 \r\nQ 422 1150 422 2328 \r\nQ 422 3509 836 4129 \r\nQ 1250 4750 2034 4750 \r\nz\r\n\" id=\"DejaVuSans-30\" transform=\"scale(0.015625)\"/>\r\n       </defs>\r\n       <use xlink:href=\"#DejaVuSans-2212\"/>\r\n       <use x=\"83.789062\" xlink:href=\"#DejaVuSans-31\"/>\r\n       <use x=\"147.412109\" xlink:href=\"#DejaVuSans-30\"/>\r\n      </g>\r\n     </g>\r\n    </g>\r\n    <g id=\"xtick_2\">\r\n     <g id=\"line2d_2\">\r\n      <g>\r\n       <use style=\"stroke:#000000;stroke-width:0.8;\" x=\"101.014409\" xlink:href=\"#m2bf2a41b00\" y=\"224.64\"/>\r\n      </g>\r\n     </g>\r\n     <g id=\"text_2\">\r\n      <!-- −5 -->\r\n      <g transform=\"translate(93.643315 239.238437)scale(0.1 -0.1)\">\r\n       <defs>\r\n        <path d=\"M 691 4666 \r\nL 3169 4666 \r\nL 3169 4134 \r\nL 1269 4134 \r\nL 1269 2991 \r\nQ 1406 3038 1543 3061 \r\nQ 1681 3084 1819 3084 \r\nQ 2600 3084 3056 2656 \r\nQ 3513 2228 3513 1497 \r\nQ 3513 744 3044 326 \r\nQ 2575 -91 1722 -91 \r\nQ 1428 -91 1123 -41 \r\nQ 819 9 494 109 \r\nL 494 744 \r\nQ 775 591 1075 516 \r\nQ 1375 441 1709 441 \r\nQ 2250 441 2565 725 \r\nQ 2881 1009 2881 1497 \r\nQ 2881 1984 2565 2268 \r\nQ 2250 2553 1709 2553 \r\nQ 1456 2553 1204 2497 \r\nQ 953 2441 691 2322 \r\nL 691 4666 \r\nz\r\n\" id=\"DejaVuSans-35\" transform=\"scale(0.015625)\"/>\r\n       </defs>\r\n       <use xlink:href=\"#DejaVuSans-2212\"/>\r\n       <use x=\"83.789062\" xlink:href=\"#DejaVuSans-35\"/>\r\n      </g>\r\n     </g>\r\n    </g>\r\n    <g id=\"xtick_3\">\r\n     <g id=\"line2d_3\">\r\n      <g>\r\n       <use style=\"stroke:#000000;stroke-width:0.8;\" x=\"157.319243\" xlink:href=\"#m2bf2a41b00\" y=\"224.64\"/>\r\n      </g>\r\n     </g>\r\n     <g id=\"text_3\">\r\n      <!-- 0 -->\r\n      <g transform=\"translate(154.137993 239.238437)scale(0.1 -0.1)\">\r\n       <use xlink:href=\"#DejaVuSans-30\"/>\r\n      </g>\r\n     </g>\r\n    </g>\r\n    <g id=\"xtick_4\">\r\n     <g id=\"line2d_4\">\r\n      <g>\r\n       <use style=\"stroke:#000000;stroke-width:0.8;\" x=\"213.624077\" xlink:href=\"#m2bf2a41b00\" y=\"224.64\"/>\r\n      </g>\r\n     </g>\r\n     <g id=\"text_4\">\r\n      <!-- 5 -->\r\n      <g transform=\"translate(210.442827 239.238437)scale(0.1 -0.1)\">\r\n       <use xlink:href=\"#DejaVuSans-35\"/>\r\n      </g>\r\n     </g>\r\n    </g>\r\n    <g id=\"xtick_5\">\r\n     <g id=\"line2d_5\">\r\n      <g>\r\n       <use style=\"stroke:#000000;stroke-width:0.8;\" x=\"269.92891\" xlink:href=\"#m2bf2a41b00\" y=\"224.64\"/>\r\n      </g>\r\n     </g>\r\n     <g id=\"text_5\">\r\n      <!-- 10 -->\r\n      <g transform=\"translate(263.56641 239.238437)scale(0.1 -0.1)\">\r\n       <use xlink:href=\"#DejaVuSans-31\"/>\r\n       <use x=\"63.623047\" xlink:href=\"#DejaVuSans-30\"/>\r\n      </g>\r\n     </g>\r\n    </g>\r\n    <g id=\"xtick_6\">\r\n     <g id=\"line2d_6\">\r\n      <g>\r\n       <use style=\"stroke:#000000;stroke-width:0.8;\" x=\"326.233744\" xlink:href=\"#m2bf2a41b00\" y=\"224.64\"/>\r\n      </g>\r\n     </g>\r\n     <g id=\"text_6\">\r\n      <!-- 15 -->\r\n      <g transform=\"translate(319.871244 239.238437)scale(0.1 -0.1)\">\r\n       <use xlink:href=\"#DejaVuSans-31\"/>\r\n       <use x=\"63.623047\" xlink:href=\"#DejaVuSans-35\"/>\r\n      </g>\r\n     </g>\r\n    </g>\r\n   </g>\r\n   <g id=\"matplotlib.axis_2\">\r\n    <g id=\"ytick_1\">\r\n     <g id=\"line2d_7\">\r\n      <defs>\r\n       <path d=\"M 0 0 \r\nL -3.5 0 \r\n\" id=\"m014c7331a5\" style=\"stroke:#000000;stroke-width:0.8;\"/>\r\n      </defs>\r\n      <g>\r\n       <use style=\"stroke:#000000;stroke-width:0.8;\" x=\"36.465625\" xlink:href=\"#m014c7331a5\" y=\"224.64\"/>\r\n      </g>\r\n     </g>\r\n     <g id=\"text_7\">\r\n      <!-- 0.00 -->\r\n      <g transform=\"translate(7.2 228.439219)scale(0.1 -0.1)\">\r\n       <defs>\r\n        <path d=\"M 684 794 \r\nL 1344 794 \r\nL 1344 0 \r\nL 684 0 \r\nL 684 794 \r\nz\r\n\" id=\"DejaVuSans-2e\" transform=\"scale(0.015625)\"/>\r\n       </defs>\r\n       <use xlink:href=\"#DejaVuSans-30\"/>\r\n       <use x=\"63.623047\" xlink:href=\"#DejaVuSans-2e\"/>\r\n       <use x=\"95.410156\" xlink:href=\"#DejaVuSans-30\"/>\r\n       <use x=\"159.033203\" xlink:href=\"#DejaVuSans-30\"/>\r\n      </g>\r\n     </g>\r\n    </g>\r\n    <g id=\"ytick_2\">\r\n     <g id=\"line2d_8\">\r\n      <g>\r\n       <use style=\"stroke:#000000;stroke-width:0.8;\" x=\"36.465625\" xlink:href=\"#m014c7331a5\" y=\"196.209262\"/>\r\n      </g>\r\n     </g>\r\n     <g id=\"text_8\">\r\n      <!-- 0.05 -->\r\n      <g transform=\"translate(7.2 200.008481)scale(0.1 -0.1)\">\r\n       <use xlink:href=\"#DejaVuSans-30\"/>\r\n       <use x=\"63.623047\" xlink:href=\"#DejaVuSans-2e\"/>\r\n       <use x=\"95.410156\" xlink:href=\"#DejaVuSans-30\"/>\r\n       <use x=\"159.033203\" xlink:href=\"#DejaVuSans-35\"/>\r\n      </g>\r\n     </g>\r\n    </g>\r\n    <g id=\"ytick_3\">\r\n     <g id=\"line2d_9\">\r\n      <g>\r\n       <use style=\"stroke:#000000;stroke-width:0.8;\" x=\"36.465625\" xlink:href=\"#m014c7331a5\" y=\"167.778524\"/>\r\n      </g>\r\n     </g>\r\n     <g id=\"text_9\">\r\n      <!-- 0.10 -->\r\n      <g transform=\"translate(7.2 171.577742)scale(0.1 -0.1)\">\r\n       <use xlink:href=\"#DejaVuSans-30\"/>\r\n       <use x=\"63.623047\" xlink:href=\"#DejaVuSans-2e\"/>\r\n       <use x=\"95.410156\" xlink:href=\"#DejaVuSans-31\"/>\r\n       <use x=\"159.033203\" xlink:href=\"#DejaVuSans-30\"/>\r\n      </g>\r\n     </g>\r\n    </g>\r\n    <g id=\"ytick_4\">\r\n     <g id=\"line2d_10\">\r\n      <g>\r\n       <use style=\"stroke:#000000;stroke-width:0.8;\" x=\"36.465625\" xlink:href=\"#m014c7331a5\" y=\"139.347786\"/>\r\n      </g>\r\n     </g>\r\n     <g id=\"text_10\">\r\n      <!-- 0.15 -->\r\n      <g transform=\"translate(7.2 143.147004)scale(0.1 -0.1)\">\r\n       <use xlink:href=\"#DejaVuSans-30\"/>\r\n       <use x=\"63.623047\" xlink:href=\"#DejaVuSans-2e\"/>\r\n       <use x=\"95.410156\" xlink:href=\"#DejaVuSans-31\"/>\r\n       <use x=\"159.033203\" xlink:href=\"#DejaVuSans-35\"/>\r\n      </g>\r\n     </g>\r\n    </g>\r\n    <g id=\"ytick_5\">\r\n     <g id=\"line2d_11\">\r\n      <g>\r\n       <use style=\"stroke:#000000;stroke-width:0.8;\" x=\"36.465625\" xlink:href=\"#m014c7331a5\" y=\"110.917047\"/>\r\n      </g>\r\n     </g>\r\n     <g id=\"text_11\">\r\n      <!-- 0.20 -->\r\n      <g transform=\"translate(7.2 114.716266)scale(0.1 -0.1)\">\r\n       <defs>\r\n        <path d=\"M 1228 531 \r\nL 3431 531 \r\nL 3431 0 \r\nL 469 0 \r\nL 469 531 \r\nQ 828 903 1448 1529 \r\nQ 2069 2156 2228 2338 \r\nQ 2531 2678 2651 2914 \r\nQ 2772 3150 2772 3378 \r\nQ 2772 3750 2511 3984 \r\nQ 2250 4219 1831 4219 \r\nQ 1534 4219 1204 4116 \r\nQ 875 4013 500 3803 \r\nL 500 4441 \r\nQ 881 4594 1212 4672 \r\nQ 1544 4750 1819 4750 \r\nQ 2544 4750 2975 4387 \r\nQ 3406 4025 3406 3419 \r\nQ 3406 3131 3298 2873 \r\nQ 3191 2616 2906 2266 \r\nQ 2828 2175 2409 1742 \r\nQ 1991 1309 1228 531 \r\nz\r\n\" id=\"DejaVuSans-32\" transform=\"scale(0.015625)\"/>\r\n       </defs>\r\n       <use xlink:href=\"#DejaVuSans-30\"/>\r\n       <use x=\"63.623047\" xlink:href=\"#DejaVuSans-2e\"/>\r\n       <use x=\"95.410156\" xlink:href=\"#DejaVuSans-32\"/>\r\n       <use x=\"159.033203\" xlink:href=\"#DejaVuSans-30\"/>\r\n      </g>\r\n     </g>\r\n    </g>\r\n    <g id=\"ytick_6\">\r\n     <g id=\"line2d_12\">\r\n      <g>\r\n       <use style=\"stroke:#000000;stroke-width:0.8;\" x=\"36.465625\" xlink:href=\"#m014c7331a5\" y=\"82.486309\"/>\r\n      </g>\r\n     </g>\r\n     <g id=\"text_12\">\r\n      <!-- 0.25 -->\r\n      <g transform=\"translate(7.2 86.285528)scale(0.1 -0.1)\">\r\n       <use xlink:href=\"#DejaVuSans-30\"/>\r\n       <use x=\"63.623047\" xlink:href=\"#DejaVuSans-2e\"/>\r\n       <use x=\"95.410156\" xlink:href=\"#DejaVuSans-32\"/>\r\n       <use x=\"159.033203\" xlink:href=\"#DejaVuSans-35\"/>\r\n      </g>\r\n     </g>\r\n    </g>\r\n    <g id=\"ytick_7\">\r\n     <g id=\"line2d_13\">\r\n      <g>\r\n       <use style=\"stroke:#000000;stroke-width:0.8;\" x=\"36.465625\" xlink:href=\"#m014c7331a5\" y=\"54.055571\"/>\r\n      </g>\r\n     </g>\r\n     <g id=\"text_13\">\r\n      <!-- 0.30 -->\r\n      <g transform=\"translate(7.2 57.85479)scale(0.1 -0.1)\">\r\n       <defs>\r\n        <path d=\"M 2597 2516 \r\nQ 3050 2419 3304 2112 \r\nQ 3559 1806 3559 1356 \r\nQ 3559 666 3084 287 \r\nQ 2609 -91 1734 -91 \r\nQ 1441 -91 1130 -33 \r\nQ 819 25 488 141 \r\nL 488 750 \r\nQ 750 597 1062 519 \r\nQ 1375 441 1716 441 \r\nQ 2309 441 2620 675 \r\nQ 2931 909 2931 1356 \r\nQ 2931 1769 2642 2001 \r\nQ 2353 2234 1838 2234 \r\nL 1294 2234 \r\nL 1294 2753 \r\nL 1863 2753 \r\nQ 2328 2753 2575 2939 \r\nQ 2822 3125 2822 3475 \r\nQ 2822 3834 2567 4026 \r\nQ 2313 4219 1838 4219 \r\nQ 1578 4219 1281 4162 \r\nQ 984 4106 628 3988 \r\nL 628 4550 \r\nQ 988 4650 1302 4700 \r\nQ 1616 4750 1894 4750 \r\nQ 2613 4750 3031 4423 \r\nQ 3450 4097 3450 3541 \r\nQ 3450 3153 3228 2886 \r\nQ 3006 2619 2597 2516 \r\nz\r\n\" id=\"DejaVuSans-33\" transform=\"scale(0.015625)\"/>\r\n       </defs>\r\n       <use xlink:href=\"#DejaVuSans-30\"/>\r\n       <use x=\"63.623047\" xlink:href=\"#DejaVuSans-2e\"/>\r\n       <use x=\"95.410156\" xlink:href=\"#DejaVuSans-33\"/>\r\n       <use x=\"159.033203\" xlink:href=\"#DejaVuSans-30\"/>\r\n      </g>\r\n     </g>\r\n    </g>\r\n    <g id=\"ytick_8\">\r\n     <g id=\"line2d_14\">\r\n      <g>\r\n       <use style=\"stroke:#000000;stroke-width:0.8;\" x=\"36.465625\" xlink:href=\"#m014c7331a5\" y=\"25.624833\"/>\r\n      </g>\r\n     </g>\r\n     <g id=\"text_14\">\r\n      <!-- 0.35 -->\r\n      <g transform=\"translate(7.2 29.424052)scale(0.1 -0.1)\">\r\n       <use xlink:href=\"#DejaVuSans-30\"/>\r\n       <use x=\"63.623047\" xlink:href=\"#DejaVuSans-2e\"/>\r\n       <use x=\"95.410156\" xlink:href=\"#DejaVuSans-33\"/>\r\n       <use x=\"159.033203\" xlink:href=\"#DejaVuSans-35\"/>\r\n      </g>\r\n     </g>\r\n    </g>\r\n   </g>\r\n   <g id=\"line2d_15\">\r\n    <path clip-path=\"url(#p2c1dcc0b1c)\" d=\"M 102.097026 221.72105 \r\nL 103.212627 221.514478 \r\nL 104.328227 221.289538 \r\nL 105.443827 221.044275 \r\nL 106.559428 220.776496 \r\nL 107.675028 220.483734 \r\nL 108.790628 220.163212 \r\nL 109.906229 219.811798 \r\nL 111.021829 219.425956 \r\nL 112.137429 219.001688 \r\nL 113.25303 218.534467 \r\nL 114.36863 218.019162 \r\nL 115.48423 217.449945 \r\nL 116.599831 216.820197 \r\nL 117.715431 216.122382 \r\nL 118.831031 215.347923 \r\nL 119.946632 214.48704 \r\nL 121.062232 213.528576 \r\nL 122.177832 212.459803 \r\nL 123.293433 211.266188 \r\nL 124.409033 209.931145 \r\nL 125.524633 208.435752 \r\nL 126.640234 206.758441 \r\nL 127.755834 204.874663 \r\nL 128.871434 202.756542 \r\nL 129.987035 200.372516 \r\nL 131.102635 197.687001 \r\nL 132.218235 194.660104 \r\nL 133.333836 191.247424 \r\nL 134.449436 187.400029 \r\nL 135.565036 183.064679 \r\nL 136.680636 178.184449 \r\nL 137.796237 172.699893 \r\nL 138.911837 166.550987 \r\nL 140.027437 159.680083 \r\nL 141.143038 152.03616 \r\nL 142.258638 143.58066 \r\nL 143.374238 134.295103 \r\nL 144.489839 124.19057 \r\nL 145.605439 113.318794 \r\nL 146.721039 101.784183 \r\nL 147.83664 89.755445 \r\nL 148.95224 77.474755 \r\nL 150.06784 65.261693 \r\nL 151.183441 53.508857 \r\nL 152.299041 42.666344 \r\nL 153.414641 33.213669 \r\nL 154.530242 25.620131 \r\nL 155.645842 20.297792 \r\nL 156.761442 17.554286 \r\nL 157.877043 17.554286 \r\nL 158.992643 20.297792 \r\nL 160.108243 25.620131 \r\nL 161.223844 33.213669 \r\nL 162.339444 42.666344 \r\nL 163.455044 53.508857 \r\nL 164.570645 65.261693 \r\nL 165.686245 77.474755 \r\nL 166.801845 89.755445 \r\nL 167.917446 101.784183 \r\nL 169.033046 113.318794 \r\nL 170.148646 124.19057 \r\nL 171.264247 134.295103 \r\nL 172.379847 143.58066 \r\nL 173.495447 152.03616 \r\nL 174.611048 159.680083 \r\nL 175.726648 166.550987 \r\nL 176.842248 172.699893 \r\nL 177.957849 178.184449 \r\nL 179.073449 183.064679 \r\nL 180.189049 187.400029 \r\nL 181.30465 191.247424 \r\nL 182.42025 194.660104 \r\nL 183.53585 197.687001 \r\nL 184.651451 200.372516 \r\nL 185.767051 202.756542 \r\nL 186.882651 204.874663 \r\nL 187.998252 206.758441 \r\nL 189.113852 208.435752 \r\nL 190.229452 209.931145 \r\nL 191.345053 211.266188 \r\nL 192.460653 212.459803 \r\nL 193.576253 213.528576 \r\nL 194.691854 214.48704 \r\nL 195.807454 215.347923 \r\nL 196.923054 216.122382 \r\nL 198.038655 216.820197 \r\nL 199.154255 217.449945 \r\nL 200.269855 218.019162 \r\nL 201.385456 218.534467 \r\nL 202.501056 219.001688 \r\nL 203.616656 219.425956 \r\nL 204.732257 219.811798 \r\nL 205.847857 220.163212 \r\nL 206.963457 220.483734 \r\nL 208.079058 220.776496 \r\nL 209.194658 221.044275 \r\nL 210.310258 221.289538 \r\nL 211.425859 221.514478 \r\nL 212.541459 221.72105 \r\n\" style=\"fill:none;stroke:#ff0000;stroke-linecap:square;stroke-opacity:0.6;\"/>\r\n   </g>\r\n   <g id=\"line2d_16\">\r\n    <path clip-path=\"url(#p2c1dcc0b1c)\" d=\"M 102.097026 221.72105 \r\nL 103.212627 221.514478 \r\nL 104.328227 221.289538 \r\nL 105.443827 221.044275 \r\nL 106.559428 220.776496 \r\nL 107.675028 220.483734 \r\nL 108.790628 220.163212 \r\nL 109.906229 219.811798 \r\nL 111.021829 219.425956 \r\nL 112.137429 219.001688 \r\nL 113.25303 218.534467 \r\nL 114.36863 218.019162 \r\nL 115.48423 217.449945 \r\nL 116.599831 216.820197 \r\nL 117.715431 216.122382 \r\nL 118.831031 215.347923 \r\nL 119.946632 214.48704 \r\nL 121.062232 213.528576 \r\nL 122.177832 212.459803 \r\nL 123.293433 211.266188 \r\nL 124.409033 209.931145 \r\nL 125.524633 208.435752 \r\nL 126.640234 206.758441 \r\nL 127.755834 204.874663 \r\nL 128.871434 202.756542 \r\nL 129.987035 200.372516 \r\nL 131.102635 197.687001 \r\nL 132.218235 194.660104 \r\nL 133.333836 191.247424 \r\nL 134.449436 187.400029 \r\nL 135.565036 183.064679 \r\nL 136.680636 178.184449 \r\nL 137.796237 172.699893 \r\nL 138.911837 166.550987 \r\nL 140.027437 159.680083 \r\nL 141.143038 152.03616 \r\nL 142.258638 143.58066 \r\nL 143.374238 134.295103 \r\nL 144.489839 124.19057 \r\nL 145.605439 113.318794 \r\nL 146.721039 101.784183 \r\nL 147.83664 89.755445 \r\nL 148.95224 77.474755 \r\nL 150.06784 65.261693 \r\nL 151.183441 53.508857 \r\nL 152.299041 42.666344 \r\nL 153.414641 33.213669 \r\nL 154.530242 25.620131 \r\nL 155.645842 20.297792 \r\nL 156.761442 17.554286 \r\nL 157.877043 17.554286 \r\nL 158.992643 20.297792 \r\nL 160.108243 25.620131 \r\nL 161.223844 33.213669 \r\nL 162.339444 42.666344 \r\nL 163.455044 53.508857 \r\nL 164.570645 65.261693 \r\nL 165.686245 77.474755 \r\nL 166.801845 89.755445 \r\nL 167.917446 101.784183 \r\nL 169.033046 113.318794 \r\nL 170.148646 124.19057 \r\nL 171.264247 134.295103 \r\nL 172.379847 143.58066 \r\nL 173.495447 152.03616 \r\nL 174.611048 159.680083 \r\nL 175.726648 166.550987 \r\nL 176.842248 172.699893 \r\nL 177.957849 178.184449 \r\nL 179.073449 183.064679 \r\nL 180.189049 187.400029 \r\nL 181.30465 191.247424 \r\nL 182.42025 194.660104 \r\nL 183.53585 197.687001 \r\nL 184.651451 200.372516 \r\nL 185.767051 202.756542 \r\nL 186.882651 204.874663 \r\nL 187.998252 206.758441 \r\nL 189.113852 208.435752 \r\nL 190.229452 209.931145 \r\nL 191.345053 211.266188 \r\nL 192.460653 212.459803 \r\nL 193.576253 213.528576 \r\nL 194.691854 214.48704 \r\nL 195.807454 215.347923 \r\nL 196.923054 216.122382 \r\nL 198.038655 216.820197 \r\nL 199.154255 217.449945 \r\nL 200.269855 218.019162 \r\nL 201.385456 218.534467 \r\nL 202.501056 219.001688 \r\nL 203.616656 219.425956 \r\nL 204.732257 219.811798 \r\nL 205.847857 220.163212 \r\nL 206.963457 220.483734 \r\nL 208.079058 220.776496 \r\nL 209.194658 221.044275 \r\nL 210.310258 221.289538 \r\nL 211.425859 221.514478 \r\nL 212.541459 221.72105 \r\n\" style=\"fill:none;stroke:#000000;stroke-linecap:square;stroke-width:2;\"/>\r\n   </g>\r\n   <g id=\"patch_4\">\r\n    <path d=\"M 36.465625 224.64 \r\nL 36.465625 7.2 \r\n\" style=\"fill:none;stroke:#000000;stroke-linecap:square;stroke-linejoin:miter;stroke-width:0.8;\"/>\r\n   </g>\r\n   <g id=\"patch_5\">\r\n    <path d=\"M 371.265625 224.64 \r\nL 371.265625 7.2 \r\n\" style=\"fill:none;stroke:#000000;stroke-linecap:square;stroke-linejoin:miter;stroke-width:0.8;\"/>\r\n   </g>\r\n   <g id=\"patch_6\">\r\n    <path d=\"M 36.465625 224.64 \r\nL 371.265625 224.64 \r\n\" style=\"fill:none;stroke:#000000;stroke-linecap:square;stroke-linejoin:miter;stroke-width:0.8;\"/>\r\n   </g>\r\n   <g id=\"patch_7\">\r\n    <path d=\"M 36.465625 7.2 \r\nL 371.265625 7.2 \r\n\" style=\"fill:none;stroke:#000000;stroke-linecap:square;stroke-linejoin:miter;stroke-width:0.8;\"/>\r\n   </g>\r\n   <g id=\"legend_1\">\r\n    <g id=\"line2d_17\">\r\n     <path d=\"M 283.60625 20.298437 \r\nL 303.60625 20.298437 \r\n\" style=\"fill:none;stroke:#ff0000;stroke-linecap:square;stroke-opacity:0.6;\"/>\r\n    </g>\r\n    <g id=\"line2d_18\"/>\r\n    <g id=\"text_15\">\r\n     <!-- t pdf -->\r\n     <g transform=\"translate(311.60625 23.798437)scale(0.1 -0.1)\">\r\n      <defs>\r\n       <path d=\"M 1172 4494 \r\nL 1172 3500 \r\nL 2356 3500 \r\nL 2356 3053 \r\nL 1172 3053 \r\nL 1172 1153 \r\nQ 1172 725 1289 603 \r\nQ 1406 481 1766 481 \r\nL 2356 481 \r\nL 2356 0 \r\nL 1766 0 \r\nQ 1100 0 847 248 \r\nQ 594 497 594 1153 \r\nL 594 3053 \r\nL 172 3053 \r\nL 172 3500 \r\nL 594 3500 \r\nL 594 4494 \r\nL 1172 4494 \r\nz\r\n\" id=\"DejaVuSans-74\" transform=\"scale(0.015625)\"/>\r\n       <path id=\"DejaVuSans-20\" transform=\"scale(0.015625)\"/>\r\n       <path d=\"M 1159 525 \r\nL 1159 -1331 \r\nL 581 -1331 \r\nL 581 3500 \r\nL 1159 3500 \r\nL 1159 2969 \r\nQ 1341 3281 1617 3432 \r\nQ 1894 3584 2278 3584 \r\nQ 2916 3584 3314 3078 \r\nQ 3713 2572 3713 1747 \r\nQ 3713 922 3314 415 \r\nQ 2916 -91 2278 -91 \r\nQ 1894 -91 1617 61 \r\nQ 1341 213 1159 525 \r\nz\r\nM 3116 1747 \r\nQ 3116 2381 2855 2742 \r\nQ 2594 3103 2138 3103 \r\nQ 1681 3103 1420 2742 \r\nQ 1159 2381 1159 1747 \r\nQ 1159 1113 1420 752 \r\nQ 1681 391 2138 391 \r\nQ 2594 391 2855 752 \r\nQ 3116 1113 3116 1747 \r\nz\r\n\" id=\"DejaVuSans-70\" transform=\"scale(0.015625)\"/>\r\n       <path d=\"M 2906 2969 \r\nL 2906 4863 \r\nL 3481 4863 \r\nL 3481 0 \r\nL 2906 0 \r\nL 2906 525 \r\nQ 2725 213 2448 61 \r\nQ 2172 -91 1784 -91 \r\nQ 1150 -91 751 415 \r\nQ 353 922 353 1747 \r\nQ 353 2572 751 3078 \r\nQ 1150 3584 1784 3584 \r\nQ 2172 3584 2448 3432 \r\nQ 2725 3281 2906 2969 \r\nz\r\nM 947 1747 \r\nQ 947 1113 1208 752 \r\nQ 1469 391 1925 391 \r\nQ 2381 391 2643 752 \r\nQ 2906 1113 2906 1747 \r\nQ 2906 2381 2643 2742 \r\nQ 2381 3103 1925 3103 \r\nQ 1469 3103 1208 2742 \r\nQ 947 2381 947 1747 \r\nz\r\n\" id=\"DejaVuSans-64\" transform=\"scale(0.015625)\"/>\r\n       <path d=\"M 2375 4863 \r\nL 2375 4384 \r\nL 1825 4384 \r\nQ 1516 4384 1395 4259 \r\nQ 1275 4134 1275 3809 \r\nL 1275 3500 \r\nL 2222 3500 \r\nL 2222 3053 \r\nL 1275 3053 \r\nL 1275 0 \r\nL 697 0 \r\nL 697 3053 \r\nL 147 3053 \r\nL 147 3500 \r\nL 697 3500 \r\nL 697 3744 \r\nQ 697 4328 969 4595 \r\nQ 1241 4863 1831 4863 \r\nL 2375 4863 \r\nz\r\n\" id=\"DejaVuSans-66\" transform=\"scale(0.015625)\"/>\r\n      </defs>\r\n      <use xlink:href=\"#DejaVuSans-74\"/>\r\n      <use x=\"39.208984\" xlink:href=\"#DejaVuSans-20\"/>\r\n      <use x=\"70.996094\" xlink:href=\"#DejaVuSans-70\"/>\r\n      <use x=\"134.472656\" xlink:href=\"#DejaVuSans-64\"/>\r\n      <use x=\"197.949219\" xlink:href=\"#DejaVuSans-66\"/>\r\n     </g>\r\n    </g>\r\n    <g id=\"line2d_19\">\r\n     <path d=\"M 283.60625 34.976562 \r\nL 303.60625 34.976562 \r\n\" style=\"fill:none;stroke:#000000;stroke-linecap:square;stroke-width:2;\"/>\r\n    </g>\r\n    <g id=\"line2d_20\"/>\r\n    <g id=\"text_16\">\r\n     <!-- frozen pdf -->\r\n     <g transform=\"translate(311.60625 38.476562)scale(0.1 -0.1)\">\r\n      <defs>\r\n       <path d=\"M 2631 2963 \r\nQ 2534 3019 2420 3045 \r\nQ 2306 3072 2169 3072 \r\nQ 1681 3072 1420 2755 \r\nQ 1159 2438 1159 1844 \r\nL 1159 0 \r\nL 581 0 \r\nL 581 3500 \r\nL 1159 3500 \r\nL 1159 2956 \r\nQ 1341 3275 1631 3429 \r\nQ 1922 3584 2338 3584 \r\nQ 2397 3584 2469 3576 \r\nQ 2541 3569 2628 3553 \r\nL 2631 2963 \r\nz\r\n\" id=\"DejaVuSans-72\" transform=\"scale(0.015625)\"/>\r\n       <path d=\"M 1959 3097 \r\nQ 1497 3097 1228 2736 \r\nQ 959 2375 959 1747 \r\nQ 959 1119 1226 758 \r\nQ 1494 397 1959 397 \r\nQ 2419 397 2687 759 \r\nQ 2956 1122 2956 1747 \r\nQ 2956 2369 2687 2733 \r\nQ 2419 3097 1959 3097 \r\nz\r\nM 1959 3584 \r\nQ 2709 3584 3137 3096 \r\nQ 3566 2609 3566 1747 \r\nQ 3566 888 3137 398 \r\nQ 2709 -91 1959 -91 \r\nQ 1206 -91 779 398 \r\nQ 353 888 353 1747 \r\nQ 353 2609 779 3096 \r\nQ 1206 3584 1959 3584 \r\nz\r\n\" id=\"DejaVuSans-6f\" transform=\"scale(0.015625)\"/>\r\n       <path d=\"M 353 3500 \r\nL 3084 3500 \r\nL 3084 2975 \r\nL 922 459 \r\nL 3084 459 \r\nL 3084 0 \r\nL 275 0 \r\nL 275 525 \r\nL 2438 3041 \r\nL 353 3041 \r\nL 353 3500 \r\nz\r\n\" id=\"DejaVuSans-7a\" transform=\"scale(0.015625)\"/>\r\n       <path d=\"M 3597 1894 \r\nL 3597 1613 \r\nL 953 1613 \r\nQ 991 1019 1311 708 \r\nQ 1631 397 2203 397 \r\nQ 2534 397 2845 478 \r\nQ 3156 559 3463 722 \r\nL 3463 178 \r\nQ 3153 47 2828 -22 \r\nQ 2503 -91 2169 -91 \r\nQ 1331 -91 842 396 \r\nQ 353 884 353 1716 \r\nQ 353 2575 817 3079 \r\nQ 1281 3584 2069 3584 \r\nQ 2775 3584 3186 3129 \r\nQ 3597 2675 3597 1894 \r\nz\r\nM 3022 2063 \r\nQ 3016 2534 2758 2815 \r\nQ 2500 3097 2075 3097 \r\nQ 1594 3097 1305 2825 \r\nQ 1016 2553 972 2059 \r\nL 3022 2063 \r\nz\r\n\" id=\"DejaVuSans-65\" transform=\"scale(0.015625)\"/>\r\n       <path d=\"M 3513 2113 \r\nL 3513 0 \r\nL 2938 0 \r\nL 2938 2094 \r\nQ 2938 2591 2744 2837 \r\nQ 2550 3084 2163 3084 \r\nQ 1697 3084 1428 2787 \r\nQ 1159 2491 1159 1978 \r\nL 1159 0 \r\nL 581 0 \r\nL 581 3500 \r\nL 1159 3500 \r\nL 1159 2956 \r\nQ 1366 3272 1645 3428 \r\nQ 1925 3584 2291 3584 \r\nQ 2894 3584 3203 3211 \r\nQ 3513 2838 3513 2113 \r\nz\r\n\" id=\"DejaVuSans-6e\" transform=\"scale(0.015625)\"/>\r\n      </defs>\r\n      <use xlink:href=\"#DejaVuSans-66\"/>\r\n      <use x=\"35.205078\" xlink:href=\"#DejaVuSans-72\"/>\r\n      <use x=\"74.068359\" xlink:href=\"#DejaVuSans-6f\"/>\r\n      <use x=\"135.25\" xlink:href=\"#DejaVuSans-7a\"/>\r\n      <use x=\"187.740234\" xlink:href=\"#DejaVuSans-65\"/>\r\n      <use x=\"249.263672\" xlink:href=\"#DejaVuSans-6e\"/>\r\n      <use x=\"312.642578\" xlink:href=\"#DejaVuSans-20\"/>\r\n      <use x=\"344.429688\" xlink:href=\"#DejaVuSans-70\"/>\r\n      <use x=\"407.90625\" xlink:href=\"#DejaVuSans-64\"/>\r\n      <use x=\"471.382812\" xlink:href=\"#DejaVuSans-66\"/>\r\n     </g>\r\n    </g>\r\n   </g>\r\n  </g>\r\n </g>\r\n <defs>\r\n  <clipPath id=\"p2c1dcc0b1c\">\r\n   <rect height=\"217.44\" width=\"334.8\" x=\"36.465625\" y=\"7.2\"/>\r\n  </clipPath>\r\n </defs>\r\n</svg>\r\n",
      "text/plain": [
       "<Figure size 432x288 with 1 Axes>"
      ]
     },
     "metadata": {
      "needs_background": "light"
     },
     "output_type": "display_data"
    }
   ],
   "source": [
    "#experiment 1\n",
    "from scipy.stats import t\n",
    "import matplotlib.pyplot as plt\n",
    "fig, ax = plt.subplots(1, 1)\n",
    "df = 2.74\n",
    "mean, var, skew, kurt = t.stats(df, moments='mvsk')\n",
    "x = np.linspace(t.ppf(0.01, df),\n",
    "                t.ppf(0.99, df), 100)\n",
    "ax.plot(x, t.pdf(x, df),\n",
    "       'r-', lw=1, alpha=0.6, label='t pdf')\n",
    "rv = t(df)\n",
    "ax.plot(x, rv.pdf(x), 'k-', lw=2, label='frozen pdf')\n",
    "vals = t.ppf([0.001, 0.5, 0.999], df)\n",
    "np.allclose([0.001, 0.5, 0.999], t.cdf(vals, df))  \n",
    "r = t.rvs(df, size=1000)\n",
    "ax.hist(r, density=True, histtype='stepfilled', alpha=0.2)\n",
    "ax.legend(loc='best', frameon=False)\n",
    "plt.show()     "
   ]
  },
  {
   "cell_type": "code",
   "execution_count": 39,
   "metadata": {},
   "outputs": [
    {
     "data": {
      "text/plain": [
       "(array(0.), array(3.7027027), array(nan), array(inf))"
      ]
     },
     "execution_count": 39,
     "metadata": {},
     "output_type": "execute_result"
    }
   ],
   "source": [
    "mean, var, skew, kurt"
   ]
  },
  {
   "cell_type": "code",
   "execution_count": 69,
   "metadata": {},
   "outputs": [
    {
     "name": "stdout",
     "output_type": "stream",
     "text": [
      "2.0243941645751367\n"
     ]
    }
   ],
   "source": [
    "print(tcrit)"
   ]
  }
 ],
 "metadata": {
  "kernelspec": {
   "display_name": "Python 3.10.6 ('pystages')",
   "language": "python",
   "name": "python3"
  },
  "language_info": {
   "codemirror_mode": {
    "name": "ipython",
    "version": 3
   },
   "file_extension": ".py",
   "mimetype": "text/x-python",
   "name": "python",
   "nbconvert_exporter": "python",
   "pygments_lexer": "ipython3",
   "version": "3.10.6"
  },
  "orig_nbformat": 4,
  "vscode": {
   "interpreter": {
    "hash": "e585d374553da2f6d109a7329fc966c74d7036d7cc8494a6df69d17fb8eda2dc"
   }
  }
 },
 "nbformat": 4,
 "nbformat_minor": 2
}
