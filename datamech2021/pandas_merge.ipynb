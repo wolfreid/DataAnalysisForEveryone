{
 "metadata": {
  "language_info": {
   "codemirror_mode": {
    "name": "ipython",
    "version": 3
   },
   "file_extension": ".py",
   "mimetype": "text/x-python",
   "name": "python",
   "nbconvert_exporter": "python",
   "pygments_lexer": "ipython3",
   "version": "3.8.8-final"
  },
  "orig_nbformat": 2,
  "kernelspec": {
   "name": "python3",
   "display_name": "Python 3.8.8 64-bit ('Section2021': conda)",
   "metadata": {
    "interpreter": {
     "hash": "46e8da15b3497454ca6c1be9c89cc1a6337447097a96301647bc18547c98be52"
    }
   }
  }
 },
 "nbformat": 4,
 "nbformat_minor": 2,
 "cells": [
  {
   "cell_type": "code",
   "execution_count": 5,
   "metadata": {},
   "outputs": [],
   "source": [
    "import pandas as pd \n",
    "import numpy as np \n",
    "pop_data = pd.read_csv(r\"C:\\Users\\Ralien\\Desktop\\Databases\\uscities.csv\")"
   ]
  },
  {
   "cell_type": "code",
   "execution_count": null,
   "metadata": {},
   "outputs": [],
   "source": [
    "#inner merge 1\n",
    "# Retrrieve special value from dataframe\n",
    "\n",
    "import pandas as pd\n",
    "\n",
    "orders = pd.read_csv('orders.csv')\n",
    "\n",
    "products = pd.read_csv('products.csv')\n",
    "\n",
    "customers = pd.read_csv('customers.csv')\n",
    "\n",
    "new_orders = pd.merge(orders,products, how = 'inner', on =['product_id'])\n",
    "order_3_description_line = new_orders.loc[new_orders['order_id'] ==3]\n",
    "order_3_description = order_3_description_line.iloc[0]['description']\n",
    "store = pd.merge(orders,customers, how = 'inner', on =['customer_id'])\n",
    "order_5_phone_number = store.loc[store['order_id'] ==5,'phone_number'].values[0]\n",
    "print(order_3_description) "
   ]
  },
  {
   "cell_type": "code",
   "execution_count": null,
   "metadata": {},
   "outputs": [],
   "source": [
    "#inner merge 2\n",
    "import pandas as pd\n",
    "\n",
    "sales = pd.read_csv('sales.csv')\n",
    "targets = pd.read_csv('targets.csv')\n",
    "\n",
    "sales_vs_targets = pd.merge(sales,targets, how='inner', on = ['month'])\n",
    "crushing_it = sales_vs_targets[sales_vs_targets['revenue']>sales_vs_targets['target']]\n",
    "print(crushing_it)"
   ]
  },
  {
   "cell_type": "code",
   "execution_count": null,
   "metadata": {},
   "outputs": [],
   "source": [
    "#inner merge 3\n",
    "import pandas as pd\n",
    "\n",
    "sales = pd.read_csv('sales.csv')\n",
    "print(sales)\n",
    "targets = pd.read_csv('targets.csv')\n",
    "print(targets)\n",
    "men_women = pd.read_csv('men_women_sales.csv')\n",
    "frames = [sales,targets,men_women]\n",
    "all_data = reduce(lambda left, right: pd.merge(left,right, on = [\"month\"], how = \"inner\"),frames)\n",
    "results = all_data[(all_data.revenue > all_data.target) & (all_data.women > all_data.men)]\n"
   ]
  }
 ]
}