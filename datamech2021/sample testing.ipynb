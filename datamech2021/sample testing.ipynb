{
 "metadata": {
  "language_info": {
   "codemirror_mode": {
    "name": "ipython",
    "version": 3
   },
   "file_extension": ".py",
   "mimetype": "text/x-python",
   "name": "python",
   "nbconvert_exporter": "python",
   "pygments_lexer": "ipython3",
   "version": "3.8.8"
  },
  "orig_nbformat": 2,
  "kernelspec": {
   "name": "python3",
   "display_name": "Python 3.8.8 64-bit ('Section2021': conda)"
  },
  "metadata": {
   "interpreter": {
    "hash": "46e8da15b3497454ca6c1be9c89cc1a6337447097a96301647bc18547c98be52"
   }
  },
  "interpreter": {
   "hash": "46e8da15b3497454ca6c1be9c89cc1a6337447097a96301647bc18547c98be52"
  }
 },
 "nbformat": 4,
 "nbformat_minor": 2,
 "cells": [
  {
   "source": [
    "Simulating the Null Distribution I\n",
    "scipy.stats.binom_test(x, n=None, p=0.5, alternative='two-sided')\n",
    "[https://github.com/scipy/scipy/blob/v1.6.3/scipy/stats/morestats.py#L2444-L2535]"
   ],
   "cell_type": "markdown",
   "metadata": {}
  },
  {
   "cell_type": "code",
   "execution_count": null,
   "metadata": {},
   "outputs": [],
   "source": [
    "import numpy as np\n",
    "import pandas as pd\n",
    "\n",
    "\n",
    "#simulate flipping coin \n",
    "monthly_report = pd.read_csv('monthly_report.csv')\n",
    "print(monthly_report.purchase)\n",
    "one_visitor = np.random.choice(['y','n'],size =len(monthly_report),p=[0.1,0.9])\n",
    "\n",
    "simulated_monthly_visitors = one_visitor\n",
    "print(simulated_monthly_visitors)\n",
    "\n",
    "#get a number of simulated experiment \n",
    "num_purchased = np.sum(simulated_monthly_visitors =='y')\n",
    "print(num_purchased)"
   ]
  },
  {
   "cell_type": "code",
   "execution_count": null,
   "metadata": {},
   "outputs": [],
   "source": [
    "import numpy as np\n",
    "import pandas as pd\n",
    "import mathplotlib.pyplot as plt \n",
    "\n",
    "\n",
    "null_outcomes = []\n",
    "\n",
    "#start for loop here:\n",
    "for  i in range(10000):\n",
    "\n",
    "  simulated_monthly_visitors = np.random.choice(['y', 'n'], size=500, p=[0.1, 0.9])\n",
    "  num_purchased = np.sum(simulated_monthly_visitors == 'y')\n",
    "  null_outcomes.append(num_purchased)\n",
    "\n",
    "null_min = np.min(null_outcomes)\n",
    "null_max = np.max(null_outcomes)\n",
    "\n",
    "\n",
    "plt.hist(null_outcomes)\n",
    "plt.axvline(41, color = 'r')\n",
    "\n",
    "null_90CI = np.percentile(null_outcomes,[5,95]) \n",
    "print(null_90CI)\n",
    "\n",
    "print(null_min,null_max)\n",
    "#расчет процента вероятности\n",
    "null_outcomes = np.array(null_outcomes)\n",
    "p_value = np.sum(null_outcomes <= 41)/len(null_outcomes)\n",
    "print(p_value)\n",
    "#calculate the minimum and maximum values in null_outcomes here:\n",
    "# this values arounded 10% provavility and equal between 25 and 75 percentile \n"
   ]
  },
  {
   "source": [
    "Writing a Binomial Test Function\n"
   ],
   "cell_type": "markdown",
   "metadata": {}
  },
  {
   "cell_type": "code",
   "execution_count": 4,
   "metadata": {},
   "outputs": [
    {
     "output_type": "stream",
     "name": "stdout",
     "text": [
      "simulation p-value:  0.1022\nbinom_test p-value:  0.1001135269756488\n"
     ]
    }
   ],
   "source": [
    "import numpy as np\n",
    "import pandas as pd\n",
    "from scipy.stats import binom_test\n",
    "\n",
    "def simulation_binomial_test(observed_successes, n, p):\n",
    "  #initialize null_outcomes\n",
    "  null_outcomes = []\n",
    "  \n",
    "  #generate the simulated null distribution\n",
    "  for i in range(10000):\n",
    "    simulated_monthly_visitors = np.random.choice(['y', 'n'], size=n, p=[p,1-p])\n",
    "    num_purchased = np.sum(simulated_monthly_visitors == 'y')\n",
    "    null_outcomes.append(num_purchased)\n",
    "\n",
    "  #calculate a 1-sided p-value\n",
    "  null_outcomes = np.array(null_outcomes)\n",
    "  p_value = np.sum(null_outcomes <= observed_successes)/len(null_outcomes) \n",
    "  \n",
    "  #return the p-value\n",
    "  return p_value\n",
    "\n",
    "#Test your function below by uncommenting the code below. You should see that your simulation function gives you a very similar answer to the binom_test function from scipy:\n",
    "\n",
    "p_value1 = simulation_binomial_test(41, 500, 0.1)\n",
    "print(\"simulation p-value: \", p_value1)\n",
    "\n",
    "p_value2 = binom_test(41, 500, .1, alternative = 'less')\n",
    "print(\"binom_test p-value: \", p_value2)"
   ]
  },
  {
   "cell_type": "code",
   "execution_count": 5,
   "metadata": {},
   "outputs": [
    {
     "output_type": "stream",
     "name": "stdout",
     "text": [
      "0.20456397700678308 0.1001135269756488\n"
     ]
    }
   ],
   "source": [
    "import numpy as np\n",
    "import pandas as pd\n",
    "from scipy.stats import binom_test\n",
    "\n",
    "# calculate p_value_2sided here:\n",
    "\n",
    "p_value_2sided = binom_test(41,500,.1)\n",
    "# calculate p_value_1sided here:\n",
    "p_value_1sided = binom_test(41,500,.1, alternative = 'less')\n",
    "print(p_value_2sided, p_value_1sided)"
   ]
  },
  {
   "cell_type": "code",
   "execution_count": 2,
   "metadata": {},
   "outputs": [
    {
     "output_type": "stream",
     "name": "stdout",
     "text": [
      "0.646\n"
     ]
    }
   ],
   "source": [
    "import numpy as np\n",
    "from scipy.stats import binom_test\n",
    "\n",
    "# Initialize num_errors\n",
    "false_positives = 0\n",
    "# Set significance threshold value\n",
    "sig_threshold = 0.05\n",
    "\n",
    "# Run binomial tests & record errors\n",
    "for i in range(1000):\n",
    "    sim_sample = np.random.choice(['correct', 'incorrect'], size=100, p=[0.8, 0.2])\n",
    "    num_correct = np.sum(sim_sample == 'correct')#examm correct values\n",
    "    p_val = binom_test(num_correct, 100, .7)#check hyp for correct values, on sample 100 size and 0.7 prob\n",
    "    # addiction argument 'design' and called 'alternative can be added. \n",
    "    if p_val < sig_threshold:\n",
    "        false_positives += 1\n",
    "\n",
    "# Print proportion of type I errors \n",
    "print(false_positives/1000)"
   ]
  },
  {
   "cell_type": "code",
   "execution_count": 3,
   "metadata": {},
   "outputs": [
    {
     "output_type": "stream",
     "name": "stdout",
     "text": [
      "0.668\n"
     ]
    }
   ],
   "source": [
    "import numpy as np\n",
    "from scipy.stats import binom_test\n",
    "\n",
    "# Initialize num_errors\n",
    "false_positives = 0\n",
    "# Set significance threshold value\n",
    "sig_threshold = 0.05\n",
    "\n",
    "# Run binomial tests & record errors\n",
    "for i in range(1000):\n",
    "    sim_sample = np.random.choice(['correct', 'incorrect'], size=100, p=[0.8, 0.2])\n",
    "    num_correct = np.sum(sim_sample == 'correct')\n",
    "    p_val = binom_test(num_correct, 100, .7)\n",
    "    if p_val < sig_threshold:\n",
    "        false_positives += 1\n",
    "\n",
    "# Print proportion of type I errors \n",
    "print(false_positives/1000)"
   ]
  },
  {
   "cell_type": "code",
   "execution_count": 7,
   "metadata": {},
   "outputs": [
    {
     "output_type": "error",
     "ename": "ValueError",
     "evalue": "0.5 is not in list",
     "traceback": [
      "\u001b[1;31m---------------------------------------------------------------------------\u001b[0m",
      "\u001b[1;31mValueError\u001b[0m                                Traceback (most recent call last)",
      "\u001b[1;32m<ipython-input-7-ca55df0c4d6c>\u001b[0m in \u001b[0;36m<module>\u001b[1;34m\u001b[0m\n\u001b[0;32m     21\u001b[0m \u001b[0mprobabilities\u001b[0m\u001b[1;33m\u001b[0m\u001b[1;33m\u001b[0m\u001b[0m\n\u001b[0;32m     22\u001b[0m \u001b[0mnum_tests_50percent\u001b[0m \u001b[1;33m=\u001b[0m \u001b[1;36m10\u001b[0m\u001b[1;33m\u001b[0m\u001b[1;33m\u001b[0m\u001b[0m\n\u001b[1;32m---> 23\u001b[1;33m \u001b[0mindex_05\u001b[0m \u001b[1;33m=\u001b[0m \u001b[0mlist\u001b[0m\u001b[1;33m(\u001b[0m\u001b[0mprobabilities\u001b[0m\u001b[1;33m)\u001b[0m\u001b[1;33m.\u001b[0m\u001b[0mindex\u001b[0m\u001b[1;33m(\u001b[0m\u001b[1;36m0.5\u001b[0m\u001b[1;33m)\u001b[0m\u001b[1;33m\u001b[0m\u001b[1;33m\u001b[0m\u001b[0m\n\u001b[0m\u001b[0;32m     24\u001b[0m \u001b[0mprint\u001b[0m\u001b[1;33m(\u001b[0m\u001b[0mindex_05\u001b[0m\u001b[1;33m)\u001b[0m\u001b[1;33m\u001b[0m\u001b[1;33m\u001b[0m\u001b[0m\n\u001b[0;32m     25\u001b[0m \u001b[1;31m# Show the plot\u001b[0m\u001b[1;33m\u001b[0m\u001b[1;33m\u001b[0m\u001b[1;33m\u001b[0m\u001b[0m\n",
      "\u001b[1;31mValueError\u001b[0m: 0.5 is not in list"
     ]
    }
   ],
   "source": [
    "\n",
    "import numpy as np\n",
    "import matplotlib.pyplot as plt\n",
    "\n",
    "# Set a correct value for num_tests_50percent\n",
    "num_tests_50percent = None\n",
    "\n",
    "\n",
    "# Create the plot\n",
    "sig_threshold = 0.05\n",
    "num_tests = np.array(range(50))\n",
    "probabilities = 1-((1-sig_threshold)**num_tests)\n",
    "plt.plot(num_tests, probabilities)\n",
    "\n",
    "# Edit title and axis labels\n",
    "plt.title('Type I Error Rate for Multiple Tests', fontsize=15)\n",
    "# Label the y-axis\n",
    "plt.ylabel('Probability of at Least One Type I Error', fontsize=12)\n",
    "# Label the x-axis\n",
    "plt.xlabel('Number of Tests', fontsize=12)\n",
    "\n",
    "probabilities\n",
    "num_tests_50percent = 10\n",
    "index_05 = list(probabilities).index(0.5)\n",
    "print(index_05)\n",
    "# Show the plot                \n",
    "plt.show()"
   ]
  },
  {
   "cell_type": "code",
   "execution_count": 8,
   "metadata": {},
   "outputs": [
    {
     "output_type": "execute_result",
     "data": {
      "text/plain": [
       "array([0.        , 0.05      , 0.0975    , 0.142625  , 0.18549375,\n",
       "       0.22621906, 0.26490811, 0.3016627 , 0.33657957, 0.36975059,\n",
       "       0.40126306, 0.43119991, 0.45963991, 0.48665792, 0.51232502,\n",
       "       0.53670877, 0.55987333, 0.58187966, 0.60278568, 0.6226464 ,\n",
       "       0.64151408, 0.65943837, 0.67646646, 0.69264313, 0.70801098,\n",
       "       0.72261043, 0.73647991, 0.74965591, 0.76217311, 0.77406446,\n",
       "       0.78536124, 0.79609317, 0.80628852, 0.81597409, 0.82517539,\n",
       "       0.83391662, 0.84222079, 0.85010975, 0.85760426, 0.86472405,\n",
       "       0.87148784, 0.87791345, 0.88401778, 0.88981689, 0.89532605,\n",
       "       0.90055974, 0.90553176, 0.91025517, 0.91474241, 0.91900529])"
      ]
     },
     "metadata": {},
     "execution_count": 8
    }
   ],
   "source": [
    "probabilities"
   ]
  }
 ]
}