{
 "metadata": {
  "language_info": {
   "codemirror_mode": {
    "name": "ipython",
    "version": 3
   },
   "file_extension": ".py",
   "mimetype": "text/x-python",
   "name": "python",
   "nbconvert_exporter": "python",
   "pygments_lexer": "ipython3",
   "version": 3
  },
  "orig_nbformat": 4
 },
 "nbformat": 4,
 "nbformat_minor": 2,
 "cells": [
  {
   "source": [
    "Двухвыборочный t-критерий"
   ],
   "cell_type": "markdown",
   "metadata": {}
  },
  {
   "cell_type": "code",
   "execution_count": null,
   "metadata": {},
   "outputs": [],
   "source": [
    "from scipy.stats import ttest_ind \n",
    "import numpy as np \n",
    "import random\n",
    "# tstat, pval = ttest_ind(times_version1, times_version2)\n",
    "population = list(range(0,160))\n",
    "a_array = random.sample(population, 20)\n",
    "b_array = random.sample(population, 20)\n",
    "\n",
    "# c = random.sample(population, 20)\n",
    "\n",
    "# ttest_2,a_c_pval = ttest_ind(a, c)\n",
    "# ttest_3,b_c_pval = ttest_ind(b, c)\n",
    "\n",
    "import scipy.stats as st\n",
    "import matplotlib.pyplot as plt\n",
    "import numpy as np\n",
    "\n",
    "## Setup      \n",
    "dof = 38        # Degrees of freedom\n",
    "alpha = 0.05    # Significence level\n",
    "ntails = 2      # Number of tails \n",
    "fact = 0.01298\n",
    "## Calculate critical t-score\n",
    "tcrit = abs(st.t.ppf(alpha/ntails, dof))\n",
    "# +=2.068\n",
    "\n",
    "plt.figure()\n",
    "xs = np.linspace(-10,10,1000)\n",
    "plt.plot(xs, st.t.pdf(xs,dof), 'k', label=\"T-Distribution PDF\")\n",
    "\n",
    "## Plot some vertical lines representing critical t-score cutoff\n",
    "critline = np.linspace(0,alpha/ntails)  # y range for critical line, AKA probability from 0-p*\n",
    "xs_1 = len(critline) * [-tcrit]         # X ranges for plotting\n",
    "xs_2 = len(critline) * [tcrit]\n",
    "plt.plot(xs_1, critline, 'r', label=\"-t* for dof=38\")\n",
    "plt.plot(xs_2, critline,'r', label=\"t* for dof=38\")\n",
    "plt.vlines([-tcrit, tcrit], 0.0, st.t.pdf(tcrit,dof), colors='r')\n",
    "plt.vlines([-ttest, ttest], 0.0, st.t.pdf(ttest,dof), colors='g')\n",
    "plt.legend()\n",
    "print(st.t.pdf(ttest,dof))"
   ]
  },
  {
   "cell_type": "code",
   "execution_count": null,
   "metadata": {},
   "outputs": [],
   "source": []
  }
 ]
}