{
 "metadata": {
  "language_info": {
   "codemirror_mode": {
    "name": "ipython",
    "version": 3
   },
   "file_extension": ".py",
   "mimetype": "text/x-python",
   "name": "python",
   "nbconvert_exporter": "python",
   "pygments_lexer": "ipython3",
   "version": "3.8.8"
  },
  "orig_nbformat": 2,
  "kernelspec": {
   "name": "python388jvsc74a57bd046e8da15b3497454ca6c1be9c89cc1a6337447097a96301647bc18547c98be52",
   "display_name": "Python 3.8.8 64-bit ('Section2021': conda)"
  },
  "metadata": {
   "interpreter": {
    "hash": "46e8da15b3497454ca6c1be9c89cc1a6337447097a96301647bc18547c98be52"
   }
  }
 },
 "nbformat": 4,
 "nbformat_minor": 2,
 "cells": [
  {
   "cell_type": "code",
   "execution_count": null,
   "metadata": {},
   "outputs": [],
   "source": [
    "import pandas as pd\n",
    "\n",
    "visits = pd.read_csv('visits.csv',\n",
    "                        parse_dates=[1])\n",
    "checkouts = pd.read_csv('checkouts.csv',\n",
    "                        parse_dates=[1])"
   ]
  },
  {
   "cell_type": "code",
   "execution_count": null,
   "metadata": {},
   "outputs": [],
   "source": [
    "v_to_c = pd.merge(visits,checkouts,how = 'inner', on = ['user_id'])\n",
    "v_to_c['time'] = v_to_c.checkout_time - \\\n",
    "                 v_to_c.visit_time\n"
   ]
  },
  {
   "cell_type": "code",
   "execution_count": null,
   "metadata": {},
   "outputs": [],
   "source": [
    "print(v_to_c.time.mean())"
   ]
  },
  {
   "cell_type": "code",
   "execution_count": null,
   "metadata": {},
   "outputs": [],
   "source": [
    "import codecademylib\n",
    "import pandas as pd\n",
    "\n",
    "visits = pd.read_csv('visits.csv',\n",
    "                     parse_dates=[1])\n",
    "cart = pd.read_csv('cart.csv',\n",
    "                   parse_dates=[1])\n",
    "checkout = pd.read_csv('checkout.csv',\n",
    "                       parse_dates=[1])\n",
    "purchase = pd.read_csv('purchase.csv',\n",
    "                       parse_dates=[1])                     \n",
    "visits_cart = pd.merge(visits,cart,on= \"user_id\", how = \"left\" )\n",
    "cart_notexist = len(visits_cart[visits_cart[\"cart_time\"].isnull()==True])\n",
    "cart_percentage = float(cart_notexist)/float(len(visits_cart))\n",
    "cart_checkout = cart.merge(checkout,on= \"user_id\", how = \"left\" ) \n",
    "checkout_notexist = len(cart_checkout[cart_checkout[\"checkout_time\"].isnull()==True])\n",
    "all_data = visits.merge(cart, how = 'left').merge(checkout,how = 'left').merge(purchase, how = 'left')\n",
    "\n",
    "data_visits = len(all_data)\n",
    "data_nocart = len(all_data[all_data[\"cart_time\"].isnull()==True])\n",
    "data_nocheckout = len(all_data[(all_data[\"checkout_time\"].isnull()==True) & (all_data[\"cart_time\"].isnull()==False)])\n",
    "data_nopurchase = len(all_data[(all_data[\"purchase_time\"].isnull()==True) & (all_data[\"checkout_time\"].isnull()==False)])\n",
    "\n",
    "d = {'step': [\"visit\", \"to cart\", \"to checkout\", \"to purchase\"],\\\n",
    "     'value': [100,float(data_nocart)/float(data_visits), \\\n",
    "         float(data_nocheckout)/float(data_visits-data_nocart),\\\n",
    "             float(data_nopurchase)/float(len(all_data[all_data[\"checkout_time\"].isnull()==True]))]}\n",
    "funnel = pd.DataFrame(data = d)\n",
    "print(funnel)\n",
    "all_data['time_to_purchase'] = all_data.purchase_time - all_data.visit_time\n",
    "print(all_data.time_to_purchase.sort_values(ascending = False))\n",
    "print(all_data.time_to_purchase.mean())\n",
    "\n"
   ]
  }
 ]
}