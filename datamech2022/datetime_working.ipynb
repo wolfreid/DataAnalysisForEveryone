{
 "cells": [
  {
   "cell_type": "markdown",
   "metadata": {},
   "source": [
    "### Константы"
   ]
  },
  {
   "cell_type": "code",
   "execution_count": 9,
   "metadata": {},
   "outputs": [
    {
     "ename": "TypeError",
     "evalue": "int() argument must be a string, a bytes-like object or a real number, not 'datetime.timezone'",
     "output_type": "error",
     "traceback": [
      "\u001b[1;31m---------------------------------------------------------------------------\u001b[0m",
      "\u001b[1;31mTypeError\u001b[0m                                 Traceback (most recent call last)",
      "\u001b[1;32mc:\\Users\\Roman.Prylypko\\Documents\\MY EDUCATION\\pystages\\HOME Data Scientist\\Ralien - Python\\Section2022\\datetime_working.ipynb Cell 1\u001b[0m in \u001b[0;36m<cell line: 7>\u001b[1;34m()\u001b[0m\n\u001b[0;32m      <a href='vscode-notebook-cell:/c%3A/Users/Roman.Prylypko/Documents/MY%20EDUCATION/pystages/HOME%20Data%20Scientist/Ralien%20-%20Python/Section2022/datetime_working.ipynb#W0sZmlsZQ%3D%3D?line=4'>5</a>\u001b[0m \u001b[39m# Alias for the UTC timezone singleton datetime.timezone.utc.\u001b[39;00m\n\u001b[0;32m      <a href='vscode-notebook-cell:/c%3A/Users/Roman.Prylypko/Documents/MY%20EDUCATION/pystages/HOME%20Data%20Scientist/Ralien%20-%20Python/Section2022/datetime_working.ipynb#W0sZmlsZQ%3D%3D?line=5'>6</a>\u001b[0m datetime\u001b[39m.\u001b[39mtimezone\u001b[39m.\u001b[39mutc\n\u001b[1;32m----> <a href='vscode-notebook-cell:/c%3A/Users/Roman.Prylypko/Documents/MY%20EDUCATION/pystages/HOME%20Data%20Scientist/Ralien%20-%20Python/Section2022/datetime_working.ipynb#W0sZmlsZQ%3D%3D?line=6'>7</a>\u001b[0m \u001b[39mint\u001b[39;49m(datetime\u001b[39m.\u001b[39;49mtimezone(datetime\u001b[39m.\u001b[39;49mtimedelta(\u001b[39m0\u001b[39;49m)))\n",
      "\u001b[1;31mTypeError\u001b[0m: int() argument must be a string, a bytes-like object or a real number, not 'datetime.timezone'"
     ]
    }
   ],
   "source": [
    "import datetime2\n",
    "\n",
    "# константа minyear, мінімальне значення і тому подібне\n",
    "datetime.MINYEAR \n",
    "datetime.MAXYEAR\n",
    "# Alias for the UTC timezone singleton datetime.timezone.utc.\n",
    "datetime.timezone.utc\n",
    "datetime.timezone(datetime.timedelta(0))"
   ]
  },
  {
   "cell_type": "markdown",
   "metadata": {},
   "source": [
    "### Типы"
   ]
  }
 ],
 "metadata": {
  "kernelspec": {
   "display_name": "Python 3.10.6 ('pystages')",
   "language": "python",
   "name": "python3"
  },
  "language_info": {
   "codemirror_mode": {
    "name": "ipython",
    "version": 3
   },
   "file_extension": ".py",
   "mimetype": "text/x-python",
   "name": "python",
   "nbconvert_exporter": "python",
   "pygments_lexer": "ipython3",
   "version": "3.10.6"
  },
  "orig_nbformat": 4,
  "vscode": {
   "interpreter": {
    "hash": "e585d374553da2f6d109a7329fc966c74d7036d7cc8494a6df69d17fb8eda2dc"
   }
  }
 },
 "nbformat": 4,
 "nbformat_minor": 2
}
