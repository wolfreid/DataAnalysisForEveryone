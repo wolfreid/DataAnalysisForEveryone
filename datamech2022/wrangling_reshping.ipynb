{
 "cells": [
  {
   "cell_type": "code",
   "execution_count": null,
   "metadata": {},
   "outputs": [],
   "source": [
    "import pandas as pd\n",
    "from connector import students\n",
    "\n",
    "\n",
    "import codecademylib3_seaborn\n",
    "import pandas as pd\n",
    "from students import students\n",
    "\n",
    "# print(students.columns)\n",
    "students = pd.melt(frame = students,id_vars  = [\"full_name\",\"gender_age\",\"grade\"], value_vars = [\"fractions\",\"probability\"],value_name = \"score\", var_name  = \"exam\")\n",
    "print(students.head())\n",
    "print(students.columns)\n",
    "print(students[\"exam\"].value_counts())\n"
   ]
  },
  {
   "cell_type": "code",
   "execution_count": null,
   "metadata": {},
   "outputs": [],
   "source": [
    "#drop diplicates\n",
    "duplicates = students.duplicated()\n",
    "\n",
    "students = students.drop_duplicates()\n",
    "duplicates = students.duplicated()\n",
    "print(duplicates.value_counts())"
   ]
  },
  {
   "cell_type": "code",
   "execution_count": null,
   "metadata": {},
   "outputs": [],
   "source": [
    "#jобработка столбцов\n",
    "import codecademylib3_seaborn\n",
    "import pandas as pd\n",
    "from students import students\n",
    "\n",
    "print(students.columns)\n",
    "print(students.head())\n",
    "students[\"gender\"] =students[\"gender_age\"].str[0]\n",
    "students[\"age\"] =students[\"gender_age\"].str[1:] \n",
    "print(students.head())\n",
    "students =  students.loc[:, students.columns != 'gender_age']"
   ]
  },
  {
   "cell_type": "code",
   "execution_count": null,
   "metadata": {},
   "outputs": [],
   "source": [
    "#обработка стобцов по определеннім строковым символам\n",
    "\n",
    "a = 'hello why am I so bored'"
   ]
  }
 ],
 "metadata": {
  "language_info": {
   "name": "python"
  },
  "orig_nbformat": 4
 },
 "nbformat": 4,
 "nbformat_minor": 2
}
