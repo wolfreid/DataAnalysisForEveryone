{
 "cells": [
  {
   "cell_type": "code",
   "execution_count": null,
   "metadata": {},
   "outputs": [],
   "source": [
    "import numpy as np\n",
    "# Represent the following system in NumPy matrix/vector form, then solve for x, y, and z\n",
    "\n",
    "# Given\n",
    "'''\n",
    "4x + z = 2\n",
    "-y + 2z - 3x = 0\n",
    ".5y - x - 1.5z = -4\n",
    "'''\n",
    "A = np.array([[4,0,1],[-3,-1,2],[-1,0.5,-1.5]])\n",
    "b = np.array([2,0,-4])\n",
    "x,y,z = np.linalg.solve(A,b)\n",
    "print((x,y,z))\n"
   ]
  },
  {
   "cell_type": "code",
   "execution_count": null,
   "metadata": {},
   "outputs": [],
   "source": [
    "import numpy as np\n",
    "\n",
    "# Given\n",
    "'''\n",
    "2a + 3d - 2c = 4\n",
    "-c + 4b - a = 1\n",
    "2d - 2c + 3a - b = 2\n",
    "-2a + 3c - b = -2\n",
    "'''"
   ]
  },
  {
   "cell_type": "code",
   "execution_count": 3,
   "metadata": {},
   "outputs": [
    {
     "data": {
      "text/plain": [
       "array([-0.33333333, -0.66666667,  0.66666667])"
      ]
     },
     "execution_count": 3,
     "metadata": {},
     "output_type": "execute_result"
    }
   ],
   "source": [
    "import numpy as np\n",
    "\n",
    "arr = np.array([[2,-3,1],[3,1,1],[-1,-2,-1]])\n",
    "arr2 = np.array([2,-1,1])\n",
    "np.linalg.solve(arr,arr2)"
   ]
  }
 ],
 "metadata": {
  "kernelspec": {
   "display_name": "Python 3.10.6 ('pystages')",
   "language": "python",
   "name": "python3"
  },
  "language_info": {
   "codemirror_mode": {
    "name": "ipython",
    "version": 3
   },
   "file_extension": ".py",
   "mimetype": "text/x-python",
   "name": "python",
   "nbconvert_exporter": "python",
   "pygments_lexer": "ipython3",
   "version": "3.10.6"
  },
  "orig_nbformat": 4,
  "vscode": {
   "interpreter": {
    "hash": "e585d374553da2f6d109a7329fc966c74d7036d7cc8494a6df69d17fb8eda2dc"
   }
  }
 },
 "nbformat": 4,
 "nbformat_minor": 2
}
