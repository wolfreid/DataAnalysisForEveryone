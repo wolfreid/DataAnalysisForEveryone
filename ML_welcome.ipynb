{
 "cells": [
  {
   "cell_type": "code",
   "execution_count": 2,
   "metadata": {},
   "outputs": [
    {
     "ename": "ModuleNotFoundError",
     "evalue": "No module named 'sklearn'",
     "output_type": "error",
     "traceback": [
      "\u001b[1;31m---------------------------------------------------------------------------\u001b[0m",
      "\u001b[1;31mModuleNotFoundError\u001b[0m                       Traceback (most recent call last)",
      "\u001b[1;32mc:\\Users\\Roman.Prylypko\\Documents\\MY EDUCATION\\pystages\\ML_welcome.ipynb Cell 1\u001b[0m in \u001b[0;36m<cell line: 2>\u001b[1;34m()\u001b[0m\n\u001b[0;32m      <a href='vscode-notebook-cell:/c%3A/Users/Roman.Prylypko/Documents/MY%20EDUCATION/pystages/ML_welcome.ipynb#W0sZmlsZQ%3D%3D?line=0'>1</a>\u001b[0m \u001b[39m# from texts import text_counter, text_training\u001b[39;00m\n\u001b[1;32m----> <a href='vscode-notebook-cell:/c%3A/Users/Roman.Prylypko/Documents/MY%20EDUCATION/pystages/ML_welcome.ipynb#W0sZmlsZQ%3D%3D?line=1'>2</a>\u001b[0m \u001b[39mfrom\u001b[39;00m \u001b[39msklearn\u001b[39;00m\u001b[39m.\u001b[39;00m\u001b[39mfeature_extraction\u001b[39;00m\u001b[39m.\u001b[39;00m\u001b[39mtext\u001b[39;00m \u001b[39mimport\u001b[39;00m CountVectorizer\n\u001b[0;32m      <a href='vscode-notebook-cell:/c%3A/Users/Roman.Prylypko/Documents/MY%20EDUCATION/pystages/ML_welcome.ipynb#W0sZmlsZQ%3D%3D?line=2'>3</a>\u001b[0m \u001b[39mfrom\u001b[39;00m \u001b[39msklearn\u001b[39;00m\u001b[39m.\u001b[39;00m\u001b[39mnaive_bayes\u001b[39;00m \u001b[39mimport\u001b[39;00m MultinomialNB\n\u001b[0;32m      <a href='vscode-notebook-cell:/c%3A/Users/Roman.Prylypko/Documents/MY%20EDUCATION/pystages/ML_welcome.ipynb#W0sZmlsZQ%3D%3D?line=4'>5</a>\u001b[0m intercepted_text \u001b[39m=\u001b[39m \u001b[39m\"\u001b[39m\u001b[39mI love my government.\u001b[39m\u001b[39m\"\u001b[39m\n",
      "\u001b[1;31mModuleNotFoundError\u001b[0m: No module named 'sklearn'"
     ]
    }
   ],
   "source": [
    "# from texts import text_counter, text_training\n",
    "from sklearn.feature_extraction.text import CountVectorizer\n",
    "from sklearn.naive_bayes import MultinomialNB\n",
    "\n",
    "intercepted_text = \"I love my government.\"\n",
    "\n",
    "text_counts = text_counter.transform([intercepted_text])\n",
    "\n",
    "text_classifier = MultinomialNB()\n",
    "\n",
    "text_labels = [0] * 1000 + [1] * 1000\n",
    "\n",
    "text_classifier.fit(text_training, text_labels)\n",
    "\n",
    "final_pos = text_classifier.predict_proba(text_counts)[0][1]\n",
    "\n",
    "final_neg = text_classifier.predict_proba(text_counts)[0][0]\n",
    "\n",
    "if final_pos > final_neg:\n",
    "  print(\"The text is positive.\")\n",
    "else:\n",
    "  print(\"The text is negative.\")"
   ]
  }
 ],
 "metadata": {
  "kernelspec": {
   "display_name": "Python 3.10.6 ('pystages')",
   "language": "python",
   "name": "python3"
  },
  "language_info": {
   "codemirror_mode": {
    "name": "ipython",
    "version": 3
   },
   "file_extension": ".py",
   "mimetype": "text/x-python",
   "name": "python",
   "nbconvert_exporter": "python",
   "pygments_lexer": "ipython3",
   "version": "3.10.6"
  },
  "orig_nbformat": 4,
  "vscode": {
   "interpreter": {
    "hash": "e585d374553da2f6d109a7329fc966c74d7036d7cc8494a6df69d17fb8eda2dc"
   }
  }
 },
 "nbformat": 4,
 "nbformat_minor": 2
}
