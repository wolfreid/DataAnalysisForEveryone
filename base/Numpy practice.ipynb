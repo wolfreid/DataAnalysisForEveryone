{
 "cells": [
  {
   "cell_type": "markdown",
   "metadata": {},
   "source": [
    "List of students grades"
   ]
  },
  {
   "cell_type": "code",
   "execution_count": 1,
   "metadata": {},
   "outputs": [],
   "source": [
    "import numpy as np"
   ]
  },
  {
   "cell_type": "code",
   "execution_count": 3,
   "metadata": {},
   "outputs": [
    {
     "name": "stdout",
     "output_type": "stream",
     "text": [
      "10\n",
      "[ 10  50  26 100  99  85  85  85  44  35]\n"
     ]
    }
   ],
   "source": [
    "studentsArr= np.array([10,50,26,100,99,85,85,85,44,35])\n",
    "print(studentsArr.size)\n",
    "print(studentsArr)"
   ]
  },
  {
   "cell_type": "code",
   "execution_count": 6,
   "metadata": {},
   "outputs": [],
   "source": [
    "list_bad_grades = np.amin(studentsArr)\n",
    "list_cool_grades = np.amax(studentsArr)\n",
    "list_mean_grades = np.average(studentsArr)\n"
   ]
  },
  {
   "cell_type": "code",
   "execution_count": 21,
   "metadata": {},
   "outputs": [
    {
     "name": "stdout",
     "output_type": "stream",
     "text": [
      "10 100 61.9\n",
      "3\n",
      "0\n"
     ]
    }
   ],
   "source": [
    "print(list_bad_grades,list_cool_grades,list_mean_grades)\n",
    "print(np.argmax(studentsArr))\n",
    "print(np.argmin(studentsArr))"
   ]
  },
  {
   "cell_type": "markdown",
   "metadata": {},
   "source": [
    "Counter of the unique values"
   ]
  },
  {
   "cell_type": "code",
   "execution_count": 19,
   "metadata": {},
   "outputs": [
    {
     "name": "stdout",
     "output_type": "stream",
     "text": [
      "{10: 1, 26: 1, 35: 1, 44: 1, 50: 1, 85: 3, 99: 1, 100: 1}\n"
     ]
    }
   ],
   "source": [
    "unique, counts = np.unique(studentsArr, return_counts = True)\n",
    "print(dict(zip(unique, counts)))"
   ]
  },
  {
   "cell_type": "code",
   "execution_count": 23,
   "metadata": {},
   "outputs": [
    {
     "name": "stdout",
     "output_type": "stream",
     "text": [
      "[ 10  26  35  44  50  85  85  85  99 100]\n",
      "[100  99  85  85  85  50  44  35  26  10]\n"
     ]
    }
   ],
   "source": [
    "print(np.sort(studentsArr))\n",
    "print(-np.sort(-studentsArr))"
   ]
  },
  {
   "cell_type": "code",
   "execution_count": 24,
   "metadata": {},
   "outputs": [
    {
     "name": "stdout",
     "output_type": "stream",
     "text": [
      "[ 12.   60.   31.2 120.  118.8 102.  102.  102.   52.8  42. ]\n"
     ]
    }
   ],
   "source": [
    "list_inc_grades = studentsArr*1.2\n",
    "print(list_inc_grades)"
   ]
  },
  {
   "cell_type": "markdown",
   "metadata": {},
   "source": [
    "Adding elements, a syntactically correct way. NP.Ones gives an example of how to accurately determine the size of an array"
   ]
  },
  {
   "cell_type": "code",
   "execution_count": 28,
   "metadata": {},
   "outputs": [
    {
     "name": "stdout",
     "output_type": "stream",
     "text": [
      "[ 11.  51.  27. 101. 100.  86.  86.  86.  45.  36.]\n"
     ]
    }
   ],
   "source": [
    "studentsAdd = np.add(studentsArr,np.ones(10))\n",
    "print(studentsAdd)"
   ]
  },
  {
   "cell_type": "code",
   "execution_count": 30,
   "metadata": {},
   "outputs": [
    {
     "name": "stdout",
     "output_type": "stream",
     "text": [
      "[ 10  50  26 100  99  85  85  85  44  35]\n"
     ]
    }
   ],
   "source": [
    "studentsAdd = np.add(studentsArr,0)\n",
    "print(studentsAdd)"
   ]
  }
 ],
 "metadata": {
  "kernelspec": {
   "display_name": "Python 3",
   "language": "python",
   "name": "python3"
  },
  "language_info": {
   "codemirror_mode": {
    "name": "ipython",
    "version": 3
   },
   "file_extension": ".py",
   "mimetype": "text/x-python",
   "name": "python",
   "nbconvert_exporter": "python",
   "pygments_lexer": "ipython3",
   "version": "3.7.3"
  }
 },
 "nbformat": 4,
 "nbformat_minor": 2
}
