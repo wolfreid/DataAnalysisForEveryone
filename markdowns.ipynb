{
 "cells": [
  {
   "cell_type": "markdown",
   "metadata": {},
   "source": [
    "[Support about markdowns](https://www.codecademy.com/article/getting-more-out-of-jupyter-notebook) \\\n",
    "[Quickly access to LATEX](http://detexify.kirelabs.org/classify.html) \\\n",
    "[Пособие LATEX](https://ru.wikibooks.org/wiki/%D0%9C%D0%B0%D1%82%D0%B5%D0%BC%D0%B0%D1%82%D0%B8%D1%87%D0%B5%D1%81%D0%BA%D0%B8%D0%B5_%D1%84%D0%BE%D1%80%D0%BC%D1%83%D0%BB%D1%8B_%D0%B2_LaTeX#External_links)"
   ]
  },
  {
   "cell_type": "markdown",
   "metadata": {},
   "source": [
    "# Hello World\n",
    "## Hello World\n",
    "### Hello World\n",
    "#### Hello World\n",
    "##### Hello World\n",
    "###### Hello World"
   ]
  },
  {
   "cell_type": "markdown",
   "metadata": {},
   "source": [
    "# Intro"
   ]
  },
  {
   "cell_type": "markdown",
   "metadata": {},
   "source": []
  },
  {
   "cell_type": "markdown",
   "metadata": {},
   "source": [
    "Styling:\n",
    "***\n",
    "**strong**\n",
    "__strong__\n",
    "*emphasize*\n",
    "_emphasize_\n"
   ]
  },
  {
   "cell_type": "markdown",
   "metadata": {},
   "source": [
    "`This is mono`"
   ]
  },
  {
   "cell_type": "markdown",
   "metadata": {},
   "source": [
    "Lists:\n",
    "* first lone\n",
    "    * subfirst line"
   ]
  },
  {
   "cell_type": "markdown",
   "metadata": {},
   "source": [
    "![image](data:image/jpeg;base64,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)"
   ]
  },
  {
   "cell_type": "code",
   "execution_count": null,
   "metadata": {},
   "outputs": [],
   "source": []
  },
  {
   "cell_type": "code",
   "execution_count": null,
   "metadata": {},
   "outputs": [],
   "source": []
  },
  {
   "cell_type": "code",
   "execution_count": null,
   "metadata": {},
   "outputs": [],
   "source": [
    "linkpandashttps://www.ukr.net/"
   ]
  },
  {
   "cell_type": "markdown",
   "metadata": {},
   "source": [
    "[Section Link for Intro](#Intro)"
   ]
  },
  {
   "cell_type": "markdown",
   "metadata": {},
   "source": [
    "Lists:\n",
    "* first lone\n",
    "    * subfirst line"
   ]
  },
  {
   "cell_type": "markdown",
   "metadata": {},
   "source": [
    "# Формулы, на базе KaTeX"
   ]
  },
  {
   "cell_type": "markdown",
   "metadata": {},
   "source": [
    "$ \\forall x \\in X, \\quad \\exists y \\leq \\epsilon$\n",
    "* буквы \\\n",
    "\n",
    "$\\alpha, \\Alpha, \\beta, \\Beta, \\gamma, \\Gamma, \\pi, \\Pi, \\phi, \\varphi, \\mu, \\Phi, \\varPhi $\n",
    "* мат операции \\\n",
    "$\\cos (2\\theta) = \\cos^2 \\theta - \\sin^2 \\theta$\n",
    "\n",
    "$\\lim\\limits_{x \\to \\infty} \\exp(-x) = 0$\n",
    "* Cтепени и индексы \\\n",
    "$k_{n+1} = n^2 + k_n^2 - k_{n-1}$\n",
    "$n^{22}$\n",
    "$f(n) = n^5 + 4n^2 + 2 |_{n=17}$\n",
    "* Матрицы\n",
    "\n",
    "$A_{m,n} = \n",
    " \\begin{pmatrix}\n",
    "  a_{1,1} & a_{1,2} & \\cdots & a_{1,n} \\\\\n",
    "  a_{2,1} & a_{2,2} & \\cdots & a_{2,n} \\\\\n",
    "  \\vdots  & \\vdots  & \\ddots & \\vdots  \\\\\n",
    "  a_{m,1} & a_{m,2} & \\cdots & a_{m,n} \n",
    " \\end{pmatrix}$"
   ]
  },
  {
   "cell_type": "markdown",
   "metadata": {},
   "source": [
    "квадратична регресія $b_0 + b_1x+b_2x^2$"
   ]
  },
  {
   "cell_type": "markdown",
   "metadata": {},
   "source": [
    "$y = b_0+b_1(\\frac{1}{x})$ \\ \n",
    "$y = b_0x^b_1$ \\\n",
    "$y = b_0b_1^x$ \\\n",
    "$y = e^{(b_0+b_1/t)}$ \\\n",
    "$y = \\frac {1}{(1/u+b_0*b_1^x)}$ \\\n",
    "$y = e^{(b_0+xb_1)}$ \\\n",
    "$y=(b_0*e^{xb_1})$"
   ]
  },
  {
   "cell_type": "markdown",
   "metadata": {},
   "source": [
    "Маркировка $\\displaystyle \\sum$ -  `$\\displaystyle \\sum$`\n",
    "\n"
   ]
  },
  {
   "cell_type": "markdown",
   "metadata": {},
   "source": [
    "$\\everymath{\\displaystyle}$"
   ]
  }
 ],
 "metadata": {
  "kernelspec": {
   "display_name": "Python 3.8.5 ('base')",
   "language": "python",
   "name": "python3"
  },
  "language_info": {
   "name": "python",
   "version": "3.8.5"
  },
  "orig_nbformat": 4,
  "vscode": {
   "interpreter": {
    "hash": "ad2bdc8ecc057115af97d19610ffacc2b4e99fae6737bb82f5d7fb13d2f2c186"
   }
  }
 },
 "nbformat": 4,
 "nbformat_minor": 2
}
